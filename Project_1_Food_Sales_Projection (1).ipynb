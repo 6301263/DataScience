{
  "nbformat": 4,
  "nbformat_minor": 0,
  "metadata": {
    "colab": {
      "name": "Project 1- Food Sales Projection.ipynb",
      "provenance": [],
      "collapsed_sections": []
    },
    "kernelspec": {
      "name": "python3",
      "display_name": "Python 3"
    },
    "language_info": {
      "name": "python"
    }
  },
  "cells": [
    {
      "cell_type": "code",
      "metadata": {
        "colab": {
          "base_uri": "https://localhost:8080/"
        },
        "id": "JKEsvp31-YHn",
        "outputId": "c1f1e31e-2578-4d53-dbca-adccccf0aa74"
      },
      "source": [
        "from google.colab import drive\n",
        "drive.mount('/content/drive')"
      ],
      "execution_count": 25,
      "outputs": [
        {
          "output_type": "stream",
          "name": "stdout",
          "text": [
            "Drive already mounted at /content/drive; to attempt to forcibly remount, call drive.mount(\"/content/drive\", force_remount=True).\n"
          ]
        }
      ]
    },
    {
      "cell_type": "code",
      "metadata": {
        "colab": {
          "base_uri": "https://localhost:8080/"
        },
        "id": "A63l6Mb_xmFc",
        "outputId": "00f54c05-345c-4050-b9ef-acc6159946f9"
      },
      "source": [
        "\n",
        "\n",
        "import pandas as pd\n",
        "sales_predictions = pd.read_csv('/content/drive/MyDrive/Colab Notebooks/02 Week 2: Pandas/sales_predictions.csv')\n",
        "pd.set_option('display.width',250)\n",
        "pd.set_option('display.max_columns',15)\n",
        "pd.set_option('display.min_rows', 50)\n",
        "print(sales_predictions.shape)\n",
        "print(sales_predictions.head(2))\n"
      ],
      "execution_count": 65,
      "outputs": [
        {
          "output_type": "stream",
          "name": "stdout",
          "text": [
            "(8523, 12)\n",
            "  Item_Identifier  Item_Weight Item_Fat_Content  Item_Visibility    Item_Type  Item_MRP Outlet_Identifier  Outlet_Establishment_Year Outlet_Size Outlet_Location_Type        Outlet_Type  Item_Outlet_Sales\n",
            "0           FDA15         9.30          Low Fat         0.016047        Dairy  249.8092            OUT049                       1999      Medium               Tier 1  Supermarket Type1          3735.1380\n",
            "1           DRC01         5.92          Regular         0.019278  Soft Drinks   48.2692            OUT018                       2009      Medium               Tier 3  Supermarket Type2           443.4228\n"
          ]
        }
      ]
    },
    {
      "cell_type": "code",
      "metadata": {
        "colab": {
          "base_uri": "https://localhost:8080/"
        },
        "id": "GQAp-FzZ78PK",
        "outputId": "02c3531c-6bb4-4906-f8d2-734db4d0fb5e"
      },
      "source": [
        "#1) How many rows and columns?\n",
        "print('Shape: ', sales_predictions.shape)\n"
      ],
      "execution_count": 42,
      "outputs": [
        {
          "output_type": "stream",
          "name": "stdout",
          "text": [
            "Shape:  (8523, 12)\n"
          ]
        }
      ]
    },
    {
      "cell_type": "code",
      "source": [
        "#2) What are the datatypes of each variable?\n",
        "print(sales_predictions.dtypes)\n"
      ],
      "metadata": {
        "colab": {
          "base_uri": "https://localhost:8080/"
        },
        "id": "P1uak9DM41uz",
        "outputId": "c0d450cb-622b-49fa-8399-04acf678ddaf"
      },
      "execution_count": 43,
      "outputs": [
        {
          "output_type": "stream",
          "name": "stdout",
          "text": [
            "Item_Identifier               object\n",
            "Item_Weight                  float64\n",
            "Item_Fat_Content              object\n",
            "Item_Visibility              float64\n",
            "Item_Type                     object\n",
            "Item_MRP                     float64\n",
            "Outlet_Identifier             object\n",
            "Outlet_Establishment_Year      int64\n",
            "Outlet_Size                   object\n",
            "Outlet_Location_Type          object\n",
            "Outlet_Type                   object\n",
            "Item_Outlet_Sales            float64\n",
            "dtype: object\n"
          ]
        }
      ]
    },
    {
      "cell_type": "code",
      "source": [
        "#3) Are there duplicates? If so, drop any duplicates.\n",
        "sales_predictions.duplicated().sum()\n"
      ],
      "metadata": {
        "colab": {
          "base_uri": "https://localhost:8080/"
        },
        "id": "L34B9IVL4123",
        "outputId": "e76080f7-92eb-48cb-906f-7a03da562a03"
      },
      "execution_count": 44,
      "outputs": [
        {
          "output_type": "execute_result",
          "data": {
            "text/plain": [
              "0"
            ]
          },
          "metadata": {},
          "execution_count": 44
        }
      ]
    },
    {
      "cell_type": "code",
      "source": [
        "#4) Identify missing values.\n",
        "sales_predictions.isna().sum()\n"
      ],
      "metadata": {
        "id": "YW_fHReU41_a",
        "colab": {
          "base_uri": "https://localhost:8080/"
        },
        "outputId": "e1991319-3733-4792-988c-438c48dcd3ab"
      },
      "execution_count": 45,
      "outputs": [
        {
          "output_type": "execute_result",
          "data": {
            "text/plain": [
              "Item_Identifier                 0\n",
              "Item_Weight                  1463\n",
              "Item_Fat_Content                0\n",
              "Item_Visibility                 0\n",
              "Item_Type                       0\n",
              "Item_MRP                        0\n",
              "Outlet_Identifier               0\n",
              "Outlet_Establishment_Year       0\n",
              "Outlet_Size                  2410\n",
              "Outlet_Location_Type            0\n",
              "Outlet_Type                     0\n",
              "Item_Outlet_Sales               0\n",
              "dtype: int64"
            ]
          },
          "metadata": {},
          "execution_count": 45
        }
      ]
    },
    {
      "cell_type": "code",
      "source": [
        "#5.1) Decide on how to address the missing values and do it! (This requires your judgement, so explain your choice).\n",
        "\n",
        "#Data Observations: \n",
        "#1) This groupby view shows us 'Tier 2' \"Outlet_Location_Type\" values so far belong to the 'Small' \"Outlet_Size\" category.\n",
        "#2) As in the above, we see 'Supermarket Type3' \"Outlet_Type\" values so far belong to the 'Medium' \"Outlet_Size\" category.\n",
        "#3) As in the above, we see 'Grocery Store' \"Outlet_Type\" values so far belong to the 'Small' \"Outlet_Size\" category.\n",
        "print(sales_predictions.groupby(['Outlet_Size','Outlet_Location_Type','Outlet_Type'])[['Outlet_Identifier']].count())\n",
        "\n",
        "#Result Validation for #1 to confirm replacement criteria is coded correctly and gives expected results: \n",
        "  #1 Find Count of 'NaN' in \"Outlet_Size\" for rows where \"Outlet_Location_Type\" is 'Tier 2'. This will be the criteria for renaming NaN to 'Small'\n",
        "print('\\n\\nShow base counts of values in Outlet_Size: \\n',sales_predictions['Outlet_Size'].value_counts())\n",
        "filter_Tier2_OutletLocationType = sales_predictions['Outlet_Location_Type']== 'Tier 2'\n",
        "filter_NaN_OutletSize = sales_predictions['Outlet_Size'].isna()\n",
        "print('\\n\\nExpected increase of Small counts for observation 1: \\n',sales_predictions[filter_Tier2_OutletLocationType & filter_NaN_OutletSize].isna().sum()) #Tells us if the replacement is done correctly we should see an addition of 1855 'Small' values. 2388 + 1855 = 4243 'Small' values after data cleansing using observation 1\n",
        "\n",
        "  #2 repeat the same for observation 2.\n",
        "filter_Supermarket3_OutletType = sales_predictions['Outlet_Type']== 'Supermarket Type3'\n",
        "print('\\n\\nExpected increase of Medium counts for observation 2: \\n',sales_predictions[filter_Supermarket3_OutletType & filter_NaN_OutletSize & ~filter_Tier2_OutletLocationType].isna().sum())   #the ~ not filter is to exclude any matches from prior step. The data set actually includes no records with 'Supermarket Type3' and 'NaN' for \"Outlet_Size\"\n",
        "\n",
        "  #3repeat the same for observation 3.\n",
        "filter_GroceryStore_OutletType = sales_predictions['Outlet_Type']== 'Grocery Store'\n",
        "print('\\n\\nExpected increase of Small counts for observation 3: \\n',sales_predictions[filter_GroceryStore_OutletType & filter_NaN_OutletSize & ~filter_Tier2_OutletLocationType].isna().sum())   #Data cleansing using observation 3 should result in an additional 555 'Small' values above the solution for observation 1. 4243 + 555 = 4798.\n",
        "\n"
      ],
      "metadata": {
        "colab": {
          "base_uri": "https://localhost:8080/"
        },
        "id": "IDvh6JE5GpXB",
        "outputId": "a2a04902-0e4d-451b-9775-55fe90212a42"
      },
      "execution_count": 66,
      "outputs": [
        {
          "output_type": "stream",
          "name": "stdout",
          "text": [
            "                                                    Outlet_Identifier\n",
            "Outlet_Size Outlet_Location_Type Outlet_Type                         \n",
            "High        Tier 3               Supermarket Type1                932\n",
            "Medium      Tier 1               Supermarket Type1                930\n",
            "            Tier 3               Supermarket Type2                928\n",
            "                                 Supermarket Type3                935\n",
            "Small       Tier 1               Grocery Store                    528\n",
            "                                 Supermarket Type1                930\n",
            "            Tier 2               Supermarket Type1                930\n",
            "\n",
            "\n",
            "Show base counts of values in Outlet_Size: \n",
            " Medium    2793\n",
            "Small     2388\n",
            "High       932\n",
            "Name: Outlet_Size, dtype: int64\n",
            "\n",
            "\n",
            "Expected increase of Small counts for observation 1: \n",
            " Item_Identifier                 0\n",
            "Item_Weight                     0\n",
            "Item_Fat_Content                0\n",
            "Item_Visibility                 0\n",
            "Item_Type                       0\n",
            "Item_MRP                        0\n",
            "Outlet_Identifier               0\n",
            "Outlet_Establishment_Year       0\n",
            "Outlet_Size                  1855\n",
            "Outlet_Location_Type            0\n",
            "Outlet_Type                     0\n",
            "Item_Outlet_Sales               0\n",
            "dtype: int64\n",
            "\n",
            "\n",
            "Expected increase of Medium counts for observation 2: \n",
            " Item_Identifier              0\n",
            "Item_Weight                  0\n",
            "Item_Fat_Content             0\n",
            "Item_Visibility              0\n",
            "Item_Type                    0\n",
            "Item_MRP                     0\n",
            "Outlet_Identifier            0\n",
            "Outlet_Establishment_Year    0\n",
            "Outlet_Size                  0\n",
            "Outlet_Location_Type         0\n",
            "Outlet_Type                  0\n",
            "Item_Outlet_Sales            0\n",
            "dtype: int64\n",
            "\n",
            "\n",
            "Expected increase of Small counts for observation 3: \n",
            " Item_Identifier                0\n",
            "Item_Weight                    0\n",
            "Item_Fat_Content               0\n",
            "Item_Visibility                0\n",
            "Item_Type                      0\n",
            "Item_MRP                       0\n",
            "Outlet_Identifier              0\n",
            "Outlet_Establishment_Year      0\n",
            "Outlet_Size                  555\n",
            "Outlet_Location_Type           0\n",
            "Outlet_Type                    0\n",
            "Item_Outlet_Sales              0\n",
            "dtype: int64\n"
          ]
        }
      ]
    },
    {
      "cell_type": "code",
      "source": [
        "#5.2) Data Cleansing based on observations 1 and 3 in step 5.1\n",
        "\n",
        "df = sales_predictions   #setting a new dataframe as to not overwrite the original counts identified in step 5.1 above\n",
        "\n",
        "# STACKOVERFLOW SOLUTION FROM SHERLIN   df.loc[(df[\"pos\"] == \"GK\") & (df[\"goals\"].isnull()), 'goals'].fillna(0, inplace=True)    <<<---- SAMPLE SOLUTION did not work with inplace=True for some reason... Hence used the below solution to overwrite the section of the frame\n",
        "\n",
        "#Solution for Observation 1\n",
        "df.loc[(df['Outlet_Location_Type'] == 'Tier 2') & (df['Outlet_Size'].isnull()), 'Outlet_Size'] = df.loc[(df['Outlet_Location_Type'] == 'Tier 2') & (df['Outlet_Size'].isnull()), 'Outlet_Size'].fillna(value= 'Small')\n",
        "print('\\n\\nExpecting 1855 additional Small values for a total of 4243 Small values from observation 1: \\n',df['Outlet_Size'].value_counts())\n",
        "\n",
        "#Solution for Observation 3\n",
        "#3) As in the above, we see 'Grocery Store' \"Outlet_Type\" values so far belong to the 'Small' \"Outlet_Size\" category.\n",
        "df.loc[(df['Outlet_Type'] == 'Grocery Store') & (df['Outlet_Size'].isnull()), 'Outlet_Size'] = df.loc[(df['Outlet_Type'] == 'Grocery Store') & (df['Outlet_Size'].isnull()), 'Outlet_Size'].fillna(value= 'Small')\n",
        "print('\\n\\nExpecting 555 additional Small values for a total of 4798 Small values from observation 3: \\n',df['Outlet_Size'].value_counts())\n",
        "\n"
      ],
      "metadata": {
        "colab": {
          "base_uri": "https://localhost:8080/"
        },
        "id": "Q-s_4Wymg5qx",
        "outputId": "a3d84582-bf09-4bcc-89a4-0e562b0e1e81"
      },
      "execution_count": 68,
      "outputs": [
        {
          "output_type": "stream",
          "name": "stdout",
          "text": [
            "\n",
            "\n",
            "Expecting 1855 additional Small values for a total of 4243 Small values from observation 1: \n",
            " Small     4798\n",
            "Medium    2793\n",
            "High       932\n",
            "Name: Outlet_Size, dtype: int64\n",
            "\n",
            "\n",
            "Expecting 555 additional Small values for a total of 4798 Small values from observation 3: \n",
            " Small     4798\n",
            "Medium    2793\n",
            "High       932\n",
            "Name: Outlet_Size, dtype: int64\n",
            "\n",
            "\n",
            "Remaining NaN: \n",
            " Item_Identifier                 0\n",
            "Item_Weight                  1463\n",
            "Item_Fat_Content                0\n",
            "Item_Visibility                 0\n",
            "Item_Type                       0\n",
            "Item_MRP                        0\n",
            "Outlet_Identifier               0\n",
            "Outlet_Establishment_Year       0\n",
            "Outlet_Size                     0\n",
            "Outlet_Location_Type            0\n",
            "Outlet_Type                     0\n",
            "Item_Outlet_Sales               0\n",
            "dtype: int64\n"
          ]
        }
      ]
    },
    {
      "cell_type": "code",
      "source": [
        "#5.3) Data Cleansing Thoughts for \"Item_Weight\"- Items of the same type should weigh a similar amount\n",
        "print(sales_predictions['Item_Type'].value_counts())\n",
        "\n",
        "avg_wt_Baking_Goods = sales_predictions.loc[sales_predictions['Item_Type']== 'Baking Goods','Item_Weight'].mean()\n",
        "avg_wt_Breads = sales_predictions.loc[sales_predictions['Item_Type']== 'Breads','Item_Weight'].mean()\n",
        "avg_wt_Breakfast = sales_predictions.loc[sales_predictions['Item_Type']== 'Breakfast','Item_Weight'].mean()\n",
        "avg_wt_Canned = sales_predictions.loc[sales_predictions['Item_Type']== 'Canned','Item_Weight'].mean()\n",
        "avg_wt_Dairy = sales_predictions.loc[sales_predictions['Item_Type']== 'Dairy','Item_Weight'].mean()\n",
        "avg_wt_Frozen_Foods = sales_predictions.loc[sales_predictions['Item_Type']== 'Frozen Foods','Item_Weight'].mean()\n",
        "avg_wt_Fruits_and_Vegetables = sales_predictions.loc[sales_predictions['Item_Type']== 'Fruits and Vegetables','Item_Weight'].mean()\n",
        "avg_wt_Hard_Drinks = sales_predictions.loc[sales_predictions['Item_Type']== 'Hard Drinks','Item_Weight'].mean()\n",
        "avg_wt_Health_and_Hygiene = sales_predictions.loc[sales_predictions['Item_Type']== 'Health and Hygiene','Item_Weight'].mean()\n",
        "avg_wt_Household = sales_predictions.loc[sales_predictions['Item_Type']== 'Household','Item_Weight'].mean()\n",
        "avg_wt_Meat = sales_predictions.loc[sales_predictions['Item_Type']== 'Meat','Item_Weight'].mean()\n",
        "avg_wt_Others = sales_predictions.loc[sales_predictions['Item_Type']== 'Others','Item_Weight'].mean()\n",
        "avg_wt_Seafood = sales_predictions.loc[sales_predictions['Item_Type']== 'Seafood','Item_Weight'].mean()\n",
        "avg_wt_Snack_Foods = sales_predictions.loc[sales_predictions['Item_Type']== 'Snack Foods','Item_Weight'].mean()\n",
        "avg_wt_Soft_Drinks = sales_predictions.loc[sales_predictions['Item_Type']== 'Soft Drinks','Item_Weight'].mean()\n",
        "avg_wt_Starchy_Foods = sales_predictions.loc[sales_predictions['Item_Type']== 'Starchy Foods','Item_Weight'].mean()\n"
      ],
      "metadata": {
        "colab": {
          "base_uri": "https://localhost:8080/"
        },
        "id": "5xZeFC3JVtrF",
        "outputId": "d27e8771-b0f7-4d66-df16-1ed99779c0d9"
      },
      "execution_count": 84,
      "outputs": [
        {
          "output_type": "stream",
          "name": "stdout",
          "text": [
            "Fruits and Vegetables    1232\n",
            "Snack Foods              1200\n",
            "Household                 910\n",
            "Frozen Foods              856\n",
            "Dairy                     682\n",
            "Canned                    649\n",
            "Baking Goods              648\n",
            "Health and Hygiene        520\n",
            "Soft Drinks               445\n",
            "Meat                      425\n",
            "Breads                    251\n",
            "Hard Drinks               214\n",
            "Others                    169\n",
            "Starchy Foods             148\n",
            "Breakfast                 110\n",
            "Seafood                    64\n",
            "Name: Item_Type, dtype: int64\n"
          ]
        }
      ]
    },
    {
      "cell_type": "code",
      "source": [
        "#5.4) \n",
        "#switching back to the df dataframe for modifications\n",
        "df.loc[(df['Item_Type'] == 'Baking Goods') & (df['Item_Weight'].isnull()), 'Item_Weight'] = df.loc[(df['Item_Type'] == 'Baking Goods') & (df['Item_Weight'].isnull()), 'Item_Weight'].fillna(value= avg_wt_Baking_Goods)\n",
        "df.loc[(df['Item_Type'] == 'Breads') & (df['Item_Weight'].isnull()), 'Item_Weight'] = df.loc[(df['Item_Type'] == 'Breads') & (df['Item_Weight'].isnull()), 'Item_Weight'].fillna(value= avg_wt_Breads)\n",
        "df.loc[(df['Item_Type'] == 'Breakfast') & (df['Item_Weight'].isnull()), 'Item_Weight'] = df.loc[(df['Item_Type'] == 'Breakfast') & (df['Item_Weight'].isnull()), 'Item_Weight'].fillna(value= avg_wt_Breakfast)\n",
        "df.loc[(df['Item_Type'] == 'Canned') & (df['Item_Weight'].isnull()), 'Item_Weight'] = df.loc[(df['Item_Type'] == 'Canned') & (df['Item_Weight'].isnull()), 'Item_Weight'].fillna(value= avg_wt_Canned)\n",
        "df.loc[(df['Item_Type'] == 'Dairy') & (df['Item_Weight'].isnull()), 'Item_Weight'] = df.loc[(df['Item_Type'] == 'Dairy') & (df['Item_Weight'].isnull()), 'Item_Weight'].fillna(value= avg_wt_Dairy)\n",
        "df.loc[(df['Item_Type'] == 'Frozen Foods') & (df['Item_Weight'].isnull()), 'Item_Weight'] = df.loc[(df['Item_Type'] == 'Frozen Foods') & (df['Item_Weight'].isnull()), 'Item_Weight'].fillna(value= avg_wt_Frozen_Foods)\n",
        "df.loc[(df['Item_Type'] == 'Fruits and Vegetables') & (df['Item_Weight'].isnull()), 'Item_Weight'] = df.loc[(df['Item_Type'] == 'Fruits and Vegetables') & (df['Item_Weight'].isnull()), 'Item_Weight'].fillna(value= avg_wt_Fruits_and_Vegetables)\n",
        "df.loc[(df['Item_Type'] == 'Hard Drinks') & (df['Item_Weight'].isnull()), 'Item_Weight'] = df.loc[(df['Item_Type'] == 'Hard Drinks') & (df['Item_Weight'].isnull()), 'Item_Weight'].fillna(value= avg_wt_Hard_Drinks)\n",
        "df.loc[(df['Item_Type'] == 'Health and Hygiene') & (df['Item_Weight'].isnull()), 'Item_Weight'] = df.loc[(df['Item_Type'] == 'Health and Hygiene') & (df['Item_Weight'].isnull()), 'Item_Weight'].fillna(value= avg_wt_Health_and_Hygiene)\n",
        "df.loc[(df['Item_Type'] == 'Household') & (df['Item_Weight'].isnull()), 'Item_Weight'] = df.loc[(df['Item_Type'] == 'Household') & (df['Item_Weight'].isnull()), 'Item_Weight'].fillna(value= avg_wt_Household)\n",
        "df.loc[(df['Item_Type'] == 'Meat') & (df['Item_Weight'].isnull()), 'Item_Weight'] = df.loc[(df['Item_Type'] == 'Meat') & (df['Item_Weight'].isnull()), 'Item_Weight'].fillna(value= avg_wt_Meat)\n",
        "df.loc[(df['Item_Type'] == 'Others') & (df['Item_Weight'].isnull()), 'Item_Weight'] = df.loc[(df['Item_Type'] == 'Others') & (df['Item_Weight'].isnull()), 'Item_Weight'].fillna(value= avg_wt_Others)\n",
        "df.loc[(df['Item_Type'] == 'Seafood') & (df['Item_Weight'].isnull()), 'Item_Weight'] = df.loc[(df['Item_Type'] == 'Seafood') & (df['Item_Weight'].isnull()), 'Item_Weight'].fillna(value= avg_wt_Seafood)\n",
        "df.loc[(df['Item_Type'] == 'Snack Foods') & (df['Item_Weight'].isnull()), 'Item_Weight'] = df.loc[(df['Item_Type'] == 'Snack Foods') & (df['Item_Weight'].isnull()), 'Item_Weight'].fillna(value= avg_wt_Snack_Foods)\n",
        "df.loc[(df['Item_Type'] == 'Soft Drinks') & (df['Item_Weight'].isnull()), 'Item_Weight'] = df.loc[(df['Item_Type'] == 'Soft Drinks') & (df['Item_Weight'].isnull()), 'Item_Weight'].fillna(value= avg_wt_Soft_Drinks)\n",
        "df.loc[(df['Item_Type'] == 'Starchy Foods') & (df['Item_Weight'].isnull()), 'Item_Weight'] = df.loc[(df['Item_Type'] == 'Starchy Foods') & (df['Item_Weight'].isnull()), 'Item_Weight'].fillna(value= avg_wt_Starchy_Foods)\n",
        "\n",
        "print(df[df['Item_Weight'].isna()])"
      ],
      "metadata": {
        "id": "EOFOgDUtZ2BV"
      },
      "execution_count": 85,
      "outputs": []
    },
    {
      "cell_type": "code",
      "source": [
        "#6) Confirm that there are no missing values after addressing them.\n",
        "print('\\n\\nRemaining NaN: \\n',df.isna().sum())\n"
      ],
      "metadata": {
        "id": "6rG4z_A549Pp",
        "colab": {
          "base_uri": "https://localhost:8080/"
        },
        "outputId": "2d3be461-0e0e-4f10-d2ba-b7652edee79f"
      },
      "execution_count": 86,
      "outputs": [
        {
          "output_type": "stream",
          "name": "stdout",
          "text": [
            "\n",
            "\n",
            "Remaining NaN: \n",
            " Item_Identifier              0\n",
            "Item_Weight                  0\n",
            "Item_Fat_Content             0\n",
            "Item_Visibility              0\n",
            "Item_Type                    0\n",
            "Item_MRP                     0\n",
            "Outlet_Identifier            0\n",
            "Outlet_Establishment_Year    0\n",
            "Outlet_Size                  0\n",
            "Outlet_Location_Type         0\n",
            "Outlet_Type                  0\n",
            "Item_Outlet_Sales            0\n",
            "dtype: int64\n",
            "Empty DataFrame\n",
            "Columns: [Item_Identifier, Item_Weight, Item_Fat_Content, Item_Visibility, Item_Type, Item_MRP, Outlet_Identifier, Outlet_Establishment_Year, Outlet_Size, Outlet_Location_Type, Outlet_Type, Item_Outlet_Sales]\n",
            "Index: []\n"
          ]
        }
      ]
    },
    {
      "cell_type": "code",
      "source": [
        "#7) Find and fix any inconsistent categories of data (example: fix cat, Cat, and cats so that they are consistent) \n",
        "print('Original DataFrame: \\n', sales_predictions.value_counts())\n",
        "#In \"Item_Fat_Content\" 'LF' should be renamed 'Low Fat' and 'reg' should be renamed 'Regular'\n",
        "\n",
        "#df['Item_Fat_Content'] = df['Item_Fat_Content'].replace(['LF', 'Low Fat'], ['reg', 'Regular'])\n",
        "df.replace({'Item_Fat_Content':'LF'},'low fat', inplace = True)\n",
        "df.replace({'Item_Fat_Content':'reg'},'Regular', inplace = True)\n",
        "print('\\n\\nCleansed DataFrame: \\n',df['Item_Fat_Content'].value_counts())\n"
      ],
      "metadata": {
        "id": "Wf-OrwTN49Xw",
        "colab": {
          "base_uri": "https://localhost:8080/"
        },
        "outputId": "68824154-2cf0-43c0-8af0-4beedab0cb9a"
      },
      "execution_count": 97,
      "outputs": [
        {
          "output_type": "stream",
          "name": "stdout",
          "text": [
            "Original DataFrame: \n",
            " Item_Identifier  Item_Weight  Item_Fat_Content  Item_Visibility  Item_Type              Item_MRP  Outlet_Identifier  Outlet_Establishment_Year  Outlet_Size  Outlet_Location_Type  Outlet_Type        Item_Outlet_Sales\n",
            "NCZ54            14.650000    Regular           0.083699         Household              163.4552  OUT018             2009                       Medium       Tier 3                Supermarket Type2  2599.2832            1\n",
            "FDJ27            17.700000    Regular           0.122565         Meat                   103.8674  OUT017             2007                       Small        Tier 2                Supermarket Type1  1528.0110            1\n",
            "FDJ22            12.987880    Regular           0.092464         Snack Foods            190.9504  OUT019             1985                       Small        Tier 1                Grocery Store      383.5008             1\n",
            "                 18.750000    Regular           0.052800         Snack Foods            193.2504  OUT035             2004                       Small        Tier 2                Supermarket Type1  2684.5056            1\n",
            "                                                0.052917         Snack Foods            190.6504  OUT045             2002                       Small        Tier 2                Supermarket Type1  1342.2528            1\n",
            "                                                0.053025         Snack Foods            192.5504  OUT018             2009                       Medium       Tier 3                Supermarket Type2  2109.2544            1\n",
            "                                                0.053109         Snack Foods            193.6504  OUT017             2007                       Small        Tier 2                Supermarket Type1  2876.2560            1\n",
            "                              low fat           0.052766         Snack Foods            189.7504  OUT013             1987                       High         Tier 3                Supermarket Type1  2492.7552            1\n",
            "FDJ26            12.305705    Regular           0.084355         Canned                 215.5218  OUT027             1985                       Medium       Tier 3                Supermarket Type3  4915.6014            1\n",
            "                 15.300000    Regular           0.084749         Canned                 215.5218  OUT035             2004                       Small        Tier 2                Supermarket Type1  4060.7142            1\n",
            "                                                0.084765         Canned                 215.0218  OUT046             1997                       Small        Tier 1                Supermarket Type1  1923.4962            1\n",
            "                                                0.084937         Canned                 214.0218  OUT045             2002                       Small        Tier 2                Supermarket Type1  1068.6090            1\n",
            "                                                0.085110         Canned                 215.7218  OUT018             2009                       Medium       Tier 3                Supermarket Type2  1923.4962            1\n",
            "FDJ27            17.700000    Regular           0.122066         Meat                   103.3674  OUT049             1999                       Medium       Tier 1                Supermarket Type1  2546.6850            1\n",
            "                                                0.122123         Meat                   100.7674  OUT045             2002                       Small        Tier 2                Supermarket Type1  814.9392             1\n",
            "                                                0.122373         Meat                   101.5674  OUT018             2009                       Medium       Tier 3                Supermarket Type2  1629.8784            1\n",
            "FDJ28            12.300000    Regular           0.021861         Frozen Foods           193.3162  OUT046             1997                       Small        Tier 1                Supermarket Type1  3078.6592            1\n",
            "FDJ34            11.800000    Regular           0.094185         Snack Foods            126.2704  OUT017             2007                       Small        Tier 2                Supermarket Type1  2002.7264            1\n",
            "FDJ28            12.300000    Regular           0.021985         Frozen Foods           191.2162  OUT017             2007                       Small        Tier 2                Supermarket Type1  1924.1620            1\n",
            "                                                0.036591         Frozen Foods           193.3162  OUT010             1998                       Small        Tier 3                Grocery Store      192.4162             1\n",
            "                 12.867061    Regular           0.000000         Frozen Foods           190.9162  OUT027             1985                       Medium       Tier 3                Supermarket Type3  5772.4860            1\n",
            "FDJ32            10.695000    Regular           0.057744         Fruits and Vegetables  61.2536   OUT013             1987                       High         Tier 3                Supermarket Type1  673.7896             1\n",
            "                                                0.057910         Fruits and Vegetables  60.4536   OUT045             2002                       Small        Tier 2                Supermarket Type1  183.7608             1\n",
            "                              reg               0.057792         Fruits and Vegetables  61.4536   OUT046             1997                       Small        Tier 1                Supermarket Type1  428.7752             1\n",
            "                 13.224769    Regular           0.057512         Fruits and Vegetables  62.5536   OUT027             1985                       Medium       Tier 3                Supermarket Type3  1592.5936            1\n",
            "                                                                                                                                                                                                                          ..\n",
            "FDV26            13.426069    Regular           0.133347         Dairy                  193.0794  OUT019             1985                       Small        Tier 1                Grocery Store      975.3970             1\n",
            "                 20.250000    Regular           0.000000         Dairy                  194.2794  OUT049             1999                       Medium       Tier 1                Supermarket Type1  4291.7468            1\n",
            "                                                0.076097         Dairy                  193.5794  OUT013             1987                       High         Tier 3                Supermarket Type1  1950.7940            1\n",
            "                                                0.076146         Dairy                  197.0794  OUT035             2004                       Small        Tier 2                Supermarket Type1  4681.9056            1\n",
            "                                                0.076160         Dairy                  196.2794  OUT046             1997                       Small        Tier 1                Supermarket Type1  2731.1116            1\n",
            "                                                0.076315         Dairy                  196.7794  OUT045             2002                       Small        Tier 2                Supermarket Type1  2731.1116            1\n",
            "                                                0.076471         Dairy                  196.1794  OUT018             2009                       Medium       Tier 3                Supermarket Type2  2731.1116            1\n",
            "FDV27            7.970000     Regular           0.040071         Meat                   87.3514   OUT045             2002                       Small        Tier 2                Supermarket Type1  1062.6168            1\n",
            "                                                0.040216         Meat                   90.4514   OUT017             2007                       Small        Tier 2                Supermarket Type1  1328.2710            1\n",
            "                 12.817344    Regular           0.070017         Meat                   89.3514   OUT019             1985                       Small        Tier 1                Grocery Store      177.1028             1\n",
            "FDV28            12.867061    Regular           0.158955         Frozen Foods           34.9558   OUT027             1985                       Medium       Tier 3                Supermarket Type3  1120.5414            1\n",
            "                 16.100000    Regular           0.000000         Frozen Foods           35.1558   OUT017             2007                       Small        Tier 2                Supermarket Type1  339.5580             1\n",
            "                                                0.159595         Frozen Foods           32.8558   OUT013             1987                       High         Tier 3                Supermarket Type1  339.5580             1\n",
            "                                                0.159698         Frozen Foods           32.0558   OUT035             2004                       Small        Tier 2                Supermarket Type1  1018.6740            1\n",
            "                                                0.159728         Frozen Foods           34.3558   OUT046             1997                       Small        Tier 1                Supermarket Type1  271.6464             1\n",
            "                                                0.160379         Frozen Foods           33.6558   OUT018             2009                       Medium       Tier 3                Supermarket Type2  203.7348             1\n",
            "                                                0.267353         Frozen Foods           34.9558   OUT010             1998                       Small        Tier 3                Grocery Store      67.9116              1\n",
            "FDV31            9.800000     Regular           0.106934         Fruits and Vegetables  175.3370  OUT045             2002                       Small        Tier 2                Supermarket Type1  529.3110             1\n",
            "                                                0.178623         Fruits and Vegetables  177.9370  OUT010             1998                       Small        Tier 3                Grocery Store      176.4370             1\n",
            "                              reg               0.000000         Fruits and Vegetables  175.2370  OUT049             1999                       Medium       Tier 1                Supermarket Type1  3881.6140            1\n",
            "FDV32            7.785000     Regular           0.088692         Fruits and Vegetables  61.8510   OUT035             2004                       Small        Tier 2                Supermarket Type1  1454.7730            1\n",
            "                                                0.088846         Fruits and Vegetables  61.4510   OUT049             1999                       Medium       Tier 1                Supermarket Type1  759.0120             1\n",
            "                                                0.089070         Fruits and Vegetables  62.7510   OUT018             2009                       Medium       Tier 3                Supermarket Type2  1707.7770            1\n",
            "                                                0.089210         Fruits and Vegetables  64.2510   OUT017             2007                       Small        Tier 2                Supermarket Type1  1328.2710            1\n",
            "DRA12            11.600000    Regular           0.000000         Soft Drinks            141.6154  OUT045             2002                       Small        Tier 2                Supermarket Type1  3829.0158            1\n",
            "Length: 8523, dtype: int64\n",
            "\n",
            "\n",
            "Cleansed DataFrame: \n",
            " Regular    8411\n",
            "low fat     112\n",
            "Name: Item_Fat_Content, dtype: int64\n"
          ]
        }
      ]
    },
    {
      "cell_type": "code",
      "source": [
        "#8) For any numerical columns, obtain the summary statistics of each (min, max, mean)\n",
        "\n",
        "print(df.dtypes, '\\n\\n')\n",
        "\n",
        "numbercolumns = ['Item_Weight', 'Item_Visibility', 'Item_MRP', 'Outlet_Establishment_Year', 'Item_Outlet_Sales']\n",
        "for x in numbercolumns:\n",
        "  print('Minimum Value of ', x, df[x].min())\n",
        "  print('Maximum Value of ', x, df[x].max())\n",
        "  print('Mean Value of ', x, df[x].mean())\n",
        "  print('\\n\\n')\n",
        "\n"
      ],
      "metadata": {
        "id": "12JNHKi449qN",
        "colab": {
          "base_uri": "https://localhost:8080/"
        },
        "outputId": "056f17f1-1a27-446e-8add-7fe4f41d88d6"
      },
      "execution_count": 123,
      "outputs": [
        {
          "output_type": "stream",
          "name": "stdout",
          "text": [
            "Item_Identifier               object\n",
            "Item_Weight                  float64\n",
            "Item_Fat_Content              object\n",
            "Item_Visibility              float64\n",
            "Item_Type                     object\n",
            "Item_MRP                     float64\n",
            "Outlet_Identifier             object\n",
            "Outlet_Establishment_Year      int64\n",
            "Outlet_Size                   object\n",
            "Outlet_Location_Type          object\n",
            "Outlet_Type                   object\n",
            "Item_Outlet_Sales            float64\n",
            "dtype: object \n",
            "\n",
            "\n",
            "Minimum Value of  Item_Weight 4.555\n",
            "Maximum Value of  Item_Weight 21.35\n",
            "Mean Value of  Item_Weight 12.857890005168949\n",
            "\n",
            "\n",
            "\n",
            "Minimum Value of  Item_Visibility 0.0\n",
            "Maximum Value of  Item_Visibility 0.328390948\n",
            "Mean Value of  Item_Visibility 0.06613202877895127\n",
            "\n",
            "\n",
            "\n",
            "Minimum Value of  Item_MRP 31.29\n",
            "Maximum Value of  Item_MRP 266.8884\n",
            "Mean Value of  Item_MRP 140.9927819781768\n",
            "\n",
            "\n",
            "\n",
            "Minimum Value of  Outlet_Establishment_Year 1985\n",
            "Maximum Value of  Outlet_Establishment_Year 2009\n",
            "Mean Value of  Outlet_Establishment_Year 1997.8318667135984\n",
            "\n",
            "\n",
            "\n",
            "Minimum Value of  Item_Outlet_Sales 33.29\n",
            "Maximum Value of  Item_Outlet_Sales 13086.9648\n",
            "Mean Value of  Item_Outlet_Sales 2181.2889135750365\n",
            "\n",
            "\n",
            "\n"
          ]
        }
      ]
    }
  ]
}