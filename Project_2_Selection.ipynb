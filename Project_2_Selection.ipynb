{
  "cells": [
    {
      "cell_type": "code",
      "execution_count": 1,
      "metadata": {
        "colab": {
          "base_uri": "https://localhost:8080/"
        },
        "id": "JKEsvp31-YHn",
        "outputId": "74167f11-6602-4b80-b925-0d439fbad795"
      },
      "outputs": [
        {
          "output_type": "stream",
          "name": "stdout",
          "text": [
            "Mounted at /content/drive\n"
          ]
        }
      ],
      "source": [
        "from google.colab import drive\n",
        "drive.mount('/content/drive')"
      ]
    },
    {
      "cell_type": "code",
      "execution_count": 13,
      "metadata": {
        "id": "A63l6Mb_xmFc"
      },
      "outputs": [],
      "source": [
        "import pandas as pd\n"
      ]
    },
    {
      "cell_type": "markdown",
      "source": [
        "Project Candidate 1: Wine Quality\n",
        "\n",
        "1) Source of data: https://archive.ics.uci.edu/ml/datasets/wine+quality\n",
        "Linked through data-flair.training.\n",
        "This is **not** the same as the wine_cultivars dataset used in the CodingDojo Learn platform.\n",
        "\n",
        "Citation Info:\n",
        "P. Cortez, A. Cerdeira, F. Almeida, T. Matos and J. Reis.\n",
        "Modeling wine preferences by data mining from physicochemical properties. In Decision Support Systems, Elsevier, 47(4):547-553, 2009.\n",
        "\n",
        "2) Brief description of data: 11 physiochemical features of red wine to predict target vector of wine quality rated from 0-10.\n",
        "\n",
        "3) What is the target? Target vector is wine quality rated from 0-10.\n",
        "\n",
        "4) Is this a classification or regression problem? Regression\n",
        "\n",
        "5) How many features? 11\n",
        "\n",
        "6) How many rows of data: 1599\n",
        "\n",
        "7) What, if any, challenges do your foresee in cleaning, exploring, or modeling with this dataset?  None really except wine quality is highly subjective I believe. I think most people, including myself, can't tell the difference between a 20 and 100 dollar bottle of wine. This subjectiveness could make the wine quality less predictable but also an interesting study to see if there is a science to wine preference.\n",
        "\n"
      ],
      "metadata": {
        "id": "uSJ0JzShq4gr"
      }
    },
    {
      "cell_type": "code",
      "source": [
        "#Header information for project candidate 1: Red Wine Quality\n",
        "df1 = pd.read_csv('/content/drive/MyDrive/Colab Notebooks/Data Files and Assignments/winequality-red.csv', sep=';')\n",
        "pd.set_option('display.width',250)\n",
        "pd.set_option('display.max_columns',15)\n",
        "pd.set_option('display.min_rows', 50)\n",
        "print(df1.shape)\n",
        "print(df1.head(2))\n"
      ],
      "metadata": {
        "colab": {
          "base_uri": "https://localhost:8080/"
        },
        "id": "5_Jr94P_qY0G",
        "outputId": "7d614dae-f310-4827-df44-bf7390f9cab5"
      },
      "execution_count": 14,
      "outputs": [
        {
          "output_type": "stream",
          "name": "stdout",
          "text": [
            "(1599, 12)\n",
            "   fixed acidity  volatile acidity  citric acid  residual sugar  chlorides  free sulfur dioxide  total sulfur dioxide  density    pH  sulphates  alcohol  quality\n",
            "0            7.4              0.70          0.0             1.9      0.076                 11.0                  34.0   0.9978  3.51       0.56      9.4        5\n",
            "1            7.8              0.88          0.0             2.6      0.098                 25.0                  67.0   0.9968  3.20       0.68      9.8        5\n"
          ]
        }
      ]
    },
    {
      "cell_type": "markdown",
      "source": [
        "Project Candidate 2: Used Car Evaluation\n",
        "\n",
        "1) Source of data: https://archive.ics.uci.edu/ml/datasets/Car+Evaluation\n",
        "\n",
        "2) Brief description of data: 6 car valuation features and target evaluation column with 1728 samples.\n",
        "\n",
        "3) What is the target? Car Evaluation\n",
        "\n",
        "4) Is this a classification or regression problem? Classification\n",
        "\n",
        "5) How many features? 6\n",
        "\n",
        "6) How many rows of data: 1728\n",
        "\n",
        "7) What, if any, challenges do your foresee in cleaning, exploring, or modeling with this dataset?  Nothing I can think of.\n"
      ],
      "metadata": {
        "id": "FOs8haUi-mwJ"
      }
    },
    {
      "cell_type": "code",
      "source": [
        "#Header information for project candidate 2: Used Car Evaluation\n",
        "df2 = pd.read_csv('/content/drive/MyDrive/Colab Notebooks/Data Files and Assignments/car.data', header=None)\n",
        "df2.columns=['price','maintenance','doors','seats','trunksize','safety','evaluation']\n",
        "pd.set_option('display.width',250)\n",
        "pd.set_option('display.max_columns',15)\n",
        "pd.set_option('display.min_rows', 50)\n",
        "print(df2.shape)\n",
        "print(df2.head(2))"
      ],
      "metadata": {
        "colab": {
          "base_uri": "https://localhost:8080/"
        },
        "id": "ApnkfdCNq4m6",
        "outputId": "bd7bb6a7-3917-42c2-c58a-fd23d4e2e37a"
      },
      "execution_count": 15,
      "outputs": [
        {
          "output_type": "stream",
          "name": "stdout",
          "text": [
            "(1728, 7)\n",
            "   price maintenance doors seats trunksize safety evaluation\n",
            "0  vhigh       vhigh     2     2     small    low      unacc\n",
            "1  vhigh       vhigh     2     2     small    med      unacc\n"
          ]
        }
      ]
    }
  ],
  "metadata": {
    "colab": {
      "collapsed_sections": [],
      "name": "Project 2: Selection",
      "provenance": []
    },
    "kernelspec": {
      "display_name": "Python 3",
      "name": "python3"
    },
    "language_info": {
      "name": "python"
    }
  },
  "nbformat": 4,
  "nbformat_minor": 0
}