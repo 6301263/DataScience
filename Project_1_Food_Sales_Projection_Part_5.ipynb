{
  "nbformat": 4,
  "nbformat_minor": 0,
  "metadata": {
    "colab": {
      "name": "Project 1- Food Sales Projection Part 5.ipynb",
      "provenance": [],
      "collapsed_sections": []
    },
    "kernelspec": {
      "name": "python3",
      "display_name": "Python 3"
    },
    "language_info": {
      "name": "python"
    }
  },
  "cells": [
    {
      "cell_type": "code",
      "metadata": {
        "colab": {
          "base_uri": "https://localhost:8080/"
        },
        "id": "JKEsvp31-YHn",
        "outputId": "7837d889-08de-40b6-fd60-4f41fa474a7a"
      },
      "source": [
        "from google.colab import drive\n",
        "drive.mount('/content/drive')"
      ],
      "execution_count": null,
      "outputs": [
        {
          "output_type": "stream",
          "name": "stdout",
          "text": [
            "Drive already mounted at /content/drive; to attempt to forcibly remount, call drive.mount(\"/content/drive\", force_remount=True).\n"
          ]
        }
      ]
    },
    {
      "cell_type": "code",
      "metadata": {
        "colab": {
          "base_uri": "https://localhost:8080/"
        },
        "id": "A63l6Mb_xmFc",
        "outputId": "807ace34-1a1d-432b-b531-d64aa35c8091"
      },
      "source": [
        "import pandas as pd\n",
        "from sklearn import set_config\n",
        "set_config(display='diagram')\n",
        "from sklearn.metrics import r2_score\n",
        "from sklearn.pipeline import make_pipeline\n",
        "from sklearn.compose import make_column_selector, make_column_transformer\n",
        "from sklearn.impute import SimpleImputer\n",
        "from sklearn.preprocessing import OneHotEncoder\n",
        "from sklearn.preprocessing import StandardScaler\n",
        "from sklearn.model_selection import train_test_split\n",
        "from sklearn.linear_model import LinearRegression\n",
        "sales_predictions = pd.read_csv('/content/drive/MyDrive/Colab Notebooks/02 Week 2: Pandas/sales_predictions.csv')\n",
        "pd.set_option('display.width',250)\n",
        "pd.set_option('display.max_columns',15)\n",
        "pd.set_option('display.min_rows', 50)\n",
        "print(sales_predictions.shape)\n",
        "print(sales_predictions.head(2))\n"
      ],
      "execution_count": null,
      "outputs": [
        {
          "output_type": "stream",
          "name": "stdout",
          "text": [
            "(8523, 12)\n",
            "  Item_Identifier  Item_Weight Item_Fat_Content  Item_Visibility    Item_Type  Item_MRP Outlet_Identifier  Outlet_Establishment_Year Outlet_Size Outlet_Location_Type        Outlet_Type  Item_Outlet_Sales\n",
            "0           FDA15         9.30          Low Fat         0.016047        Dairy  249.8092            OUT049                       1999      Medium               Tier 1  Supermarket Type1          3735.1380\n",
            "1           DRC01         5.92          Regular         0.019278  Soft Drinks   48.2692            OUT018                       2009      Medium               Tier 3  Supermarket Type2           443.4228\n"
          ]
        }
      ]
    },
    {
      "cell_type": "code",
      "metadata": {
        "colab": {
          "base_uri": "https://localhost:8080/"
        },
        "id": "GQAp-FzZ78PK",
        "outputId": "dd85d56c-5e60-4e18-a3d9-6ae7af463856"
      },
      "source": [
        "#1) How many rows and columns?\n",
        "print('Shape: ', sales_predictions.shape)\n"
      ],
      "execution_count": null,
      "outputs": [
        {
          "output_type": "stream",
          "name": "stdout",
          "text": [
            "Shape:  (8523, 12)\n"
          ]
        }
      ]
    },
    {
      "cell_type": "code",
      "source": [
        "#2) What are the datatypes of each variable?\n",
        "print(sales_predictions.dtypes)\n"
      ],
      "metadata": {
        "colab": {
          "base_uri": "https://localhost:8080/"
        },
        "id": "P1uak9DM41uz",
        "outputId": "73986a1c-f645-45e4-9fec-c41e3ca94347"
      },
      "execution_count": null,
      "outputs": [
        {
          "output_type": "stream",
          "name": "stdout",
          "text": [
            "Item_Identifier               object\n",
            "Item_Weight                  float64\n",
            "Item_Fat_Content              object\n",
            "Item_Visibility              float64\n",
            "Item_Type                     object\n",
            "Item_MRP                     float64\n",
            "Outlet_Identifier             object\n",
            "Outlet_Establishment_Year      int64\n",
            "Outlet_Size                   object\n",
            "Outlet_Location_Type          object\n",
            "Outlet_Type                   object\n",
            "Item_Outlet_Sales            float64\n",
            "dtype: object\n"
          ]
        }
      ]
    },
    {
      "cell_type": "code",
      "source": [
        "#3) Are there duplicates? If so, drop any duplicates.\n",
        "sales_predictions.duplicated().sum()\n"
      ],
      "metadata": {
        "colab": {
          "base_uri": "https://localhost:8080/"
        },
        "id": "L34B9IVL4123",
        "outputId": "c8462551-595a-4d16-9c2f-3ebd3c878789"
      },
      "execution_count": null,
      "outputs": [
        {
          "output_type": "execute_result",
          "data": {
            "text/plain": [
              "0"
            ]
          },
          "metadata": {},
          "execution_count": 41
        }
      ]
    },
    {
      "cell_type": "code",
      "source": [
        "#4) Identify missing values.\n",
        "sales_predictions.isna().sum()\n"
      ],
      "metadata": {
        "id": "YW_fHReU41_a",
        "colab": {
          "base_uri": "https://localhost:8080/"
        },
        "outputId": "d0ad3f2d-bab9-452f-dcdc-059ba08cf474"
      },
      "execution_count": null,
      "outputs": [
        {
          "output_type": "execute_result",
          "data": {
            "text/plain": [
              "Item_Identifier                 0\n",
              "Item_Weight                  1463\n",
              "Item_Fat_Content                0\n",
              "Item_Visibility                 0\n",
              "Item_Type                       0\n",
              "Item_MRP                        0\n",
              "Outlet_Identifier               0\n",
              "Outlet_Establishment_Year       0\n",
              "Outlet_Size                  2410\n",
              "Outlet_Location_Type            0\n",
              "Outlet_Type                     0\n",
              "Item_Outlet_Sales               0\n",
              "dtype: int64"
            ]
          },
          "metadata": {},
          "execution_count": 42
        }
      ]
    },
    {
      "cell_type": "code",
      "source": [
        "#Copy dataframe for processing\n",
        "dfml = sales_predictions\n",
        "\n",
        "#Find Inconsistent Categories\n",
        "counter = len(dfml.loc[1,:])  \n",
        "for x in range(counter):\n",
        "  if dfml.iloc[:,x].dtypes == 'object':\n",
        "    print('\\n\\n', dfml.iloc[:,x].head(0))\n",
        "    print('Categories: \\n', dfml.iloc[:,x].value_counts())"
      ],
      "metadata": {
        "colab": {
          "base_uri": "https://localhost:8080/"
        },
        "id": "3f5U_t81Lstr",
        "outputId": "fc4bab5d-78b7-41aa-c346-bf06c2f9e346"
      },
      "execution_count": null,
      "outputs": [
        {
          "output_type": "stream",
          "name": "stdout",
          "text": [
            "\n",
            "\n",
            " Series([], Name: Item_Identifier, dtype: object)\n",
            "Categories: \n",
            " FDW13    10\n",
            "FDG33    10\n",
            "DRE49     9\n",
            "FDW26     9\n",
            "FDO19     9\n",
            "NCQ06     9\n",
            "FDP25     9\n",
            "FDX04     9\n",
            "FDF52     9\n",
            "NCJ30     9\n",
            "FDV38     9\n",
            "NCY18     9\n",
            "NCB18     9\n",
            "DRN47     9\n",
            "FDV60     9\n",
            "FDX20     9\n",
            "FDG09     9\n",
            "FDD38     9\n",
            "NCI54     9\n",
            "FDW49     9\n",
            "FDT07     9\n",
            "NCF42     9\n",
            "NCL31     9\n",
            "FDF56     9\n",
            "FDX31     9\n",
            "         ..\n",
            "FDU43     2\n",
            "FDF38     2\n",
            "NCM42     2\n",
            "FDB10     2\n",
            "FDU09     2\n",
            "FDM38     2\n",
            "NCW05     2\n",
            "FDR57     2\n",
            "FDT33     2\n",
            "FDR03     2\n",
            "FDH22     2\n",
            "NCX53     2\n",
            "NCV18     2\n",
            "FDA48     2\n",
            "FDM16     2\n",
            "FDE38     2\n",
            "FDQ60     1\n",
            "FDE52     1\n",
            "FDT35     1\n",
            "FDO33     1\n",
            "DRF48     1\n",
            "FDK57     1\n",
            "FDC23     1\n",
            "FDY43     1\n",
            "FDN52     1\n",
            "Name: Item_Identifier, Length: 1559, dtype: int64\n",
            "\n",
            "\n",
            " Series([], Name: Item_Fat_Content, dtype: object)\n",
            "Categories: \n",
            " Low Fat    5089\n",
            "Regular    2889\n",
            "LF          316\n",
            "reg         117\n",
            "low fat     112\n",
            "Name: Item_Fat_Content, dtype: int64\n",
            "\n",
            "\n",
            " Series([], Name: Item_Type, dtype: object)\n",
            "Categories: \n",
            " Fruits and Vegetables    1232\n",
            "Snack Foods              1200\n",
            "Household                 910\n",
            "Frozen Foods              856\n",
            "Dairy                     682\n",
            "Canned                    649\n",
            "Baking Goods              648\n",
            "Health and Hygiene        520\n",
            "Soft Drinks               445\n",
            "Meat                      425\n",
            "Breads                    251\n",
            "Hard Drinks               214\n",
            "Others                    169\n",
            "Starchy Foods             148\n",
            "Breakfast                 110\n",
            "Seafood                    64\n",
            "Name: Item_Type, dtype: int64\n",
            "\n",
            "\n",
            " Series([], Name: Outlet_Identifier, dtype: object)\n",
            "Categories: \n",
            " OUT027    935\n",
            "OUT013    932\n",
            "OUT035    930\n",
            "OUT049    930\n",
            "OUT046    930\n",
            "OUT045    929\n",
            "OUT018    928\n",
            "OUT017    926\n",
            "OUT010    555\n",
            "OUT019    528\n",
            "Name: Outlet_Identifier, dtype: int64\n",
            "\n",
            "\n",
            " Series([], Name: Outlet_Size, dtype: object)\n",
            "Categories: \n",
            " Medium    2793\n",
            "Small     2388\n",
            "High       932\n",
            "Name: Outlet_Size, dtype: int64\n",
            "\n",
            "\n",
            " Series([], Name: Outlet_Location_Type, dtype: object)\n",
            "Categories: \n",
            " Tier 3    3350\n",
            "Tier 2    2785\n",
            "Tier 1    2388\n",
            "Name: Outlet_Location_Type, dtype: int64\n",
            "\n",
            "\n",
            " Series([], Name: Outlet_Type, dtype: object)\n",
            "Categories: \n",
            " Supermarket Type1    5577\n",
            "Grocery Store        1083\n",
            "Supermarket Type3     935\n",
            "Supermarket Type2     928\n",
            "Name: Outlet_Type, dtype: int64\n"
          ]
        }
      ]
    },
    {
      "cell_type": "code",
      "source": [
        "\n",
        "#Fix Inconsistent Categories in \"Item_Fat_Content\", 'LF' should be renamed 'Low Fat' and 'reg' should be renamed 'Regular' and 'low fat' should be renamed to 'Low Fat'\n",
        "\n",
        "dfml.replace({'Item_Fat_Content':'LF'},'Low Fat', inplace = True)\n",
        "dfml.replace({'Item_Fat_Content':'low fat'},'Low Fat', inplace = True)\n",
        "dfml.replace({'Item_Fat_Content':'reg'},'Regular', inplace = True)\n",
        "print('\\n\\nCleansed DataFrame: \\n',dfml['Item_Fat_Content'].value_counts())\n"
      ],
      "metadata": {
        "id": "Wf-OrwTN49Xw",
        "colab": {
          "base_uri": "https://localhost:8080/"
        },
        "outputId": "911310e3-224b-4d61-8f84-fb5f1c30a60a"
      },
      "execution_count": null,
      "outputs": [
        {
          "output_type": "stream",
          "name": "stdout",
          "text": [
            "\n",
            "\n",
            "Cleansed DataFrame: \n",
            " Low Fat    5517\n",
            "Regular    3006\n",
            "Name: Item_Fat_Content, dtype: int64\n"
          ]
        }
      ]
    },
    {
      "cell_type": "code",
      "source": [
        "#Identify the target (X) and features (y): Assign the \"Item_Outlet_Sales\" column as your target and the rest of the relevant variables as your features matrix.  \n",
        "\n",
        "X = dfml.drop(columns=['Item_Outlet_Sales','Item_Identifier','Outlet_Identifier','Outlet_Establishment_Year'])\n",
        "y = dfml['Item_Outlet_Sales']\n",
        "\n",
        "#Perform a train test split\n",
        "X_train, X_test, y_train, y_test = train_test_split(X, y, random_state = 42)"
      ],
      "metadata": {
        "id": "uPGl5fJKJBkI"
      },
      "execution_count": null,
      "outputs": []
    },
    {
      "cell_type": "code",
      "source": [
        "cat_selector = make_column_selector(dtype_include='object')\n",
        "num_selector = make_column_selector(dtype_include='number')\n",
        "mean_imputer = SimpleImputer(strategy='mean')\n",
        "freq_imputer = SimpleImputer(strategy='most_frequent')\n",
        "scaler = StandardScaler()\n",
        "ohe_encoder = OneHotEncoder(sparse=False, handle_unknown='ignore')"
      ],
      "metadata": {
        "id": "1UutRimnJBvC"
      },
      "execution_count": null,
      "outputs": []
    },
    {
      "cell_type": "code",
      "source": [
        "#Loading the pipeline with preprocessors\n",
        "num_pipe = make_pipeline(mean_imputer, scaler)\n",
        "cat_pipe = make_pipeline(freq_imputer, ohe_encoder)"
      ],
      "metadata": {
        "id": "1apl1St4JBzj"
      },
      "execution_count": null,
      "outputs": []
    },
    {
      "cell_type": "code",
      "source": [
        "#Pairing the datatype with the pipelines\n",
        "num_tuple = (num_pipe, num_selector)\n",
        "cat_tuple = (cat_pipe, cat_selector)\n",
        "\n",
        "#Load the transformer\n",
        "column_transformer = make_column_transformer(num_tuple, cat_tuple)\n",
        "\n",
        "#Load the analytical model\n",
        "lin_reg = LinearRegression()"
      ],
      "metadata": {
        "id": "ihr3L-nMJB2F"
      },
      "execution_count": null,
      "outputs": []
    },
    {
      "cell_type": "code",
      "source": [
        "#Create the final pipe linking all the instructions\n",
        "pipe = make_pipeline(column_transformer, lin_reg)\n",
        "\n",
        "#Fit the data into the pipeline\n",
        "pipe.fit(X_train, y_train)"
      ],
      "metadata": {
        "colab": {
          "base_uri": "https://localhost:8080/",
          "height": 227
        },
        "id": "CjeTONUXJB5U",
        "outputId": "04e582d5-4001-4175-a59b-af2454a3e89c"
      },
      "execution_count": null,
      "outputs": [
        {
          "output_type": "execute_result",
          "data": {
            "text/html": [
              "<style>#sk-2f1f4b3e-ad01-42e1-bb28-3bd845842e64 {color: black;background-color: white;}#sk-2f1f4b3e-ad01-42e1-bb28-3bd845842e64 pre{padding: 0;}#sk-2f1f4b3e-ad01-42e1-bb28-3bd845842e64 div.sk-toggleable {background-color: white;}#sk-2f1f4b3e-ad01-42e1-bb28-3bd845842e64 label.sk-toggleable__label {cursor: pointer;display: block;width: 100%;margin-bottom: 0;padding: 0.3em;box-sizing: border-box;text-align: center;}#sk-2f1f4b3e-ad01-42e1-bb28-3bd845842e64 label.sk-toggleable__label-arrow:before {content: \"▸\";float: left;margin-right: 0.25em;color: #696969;}#sk-2f1f4b3e-ad01-42e1-bb28-3bd845842e64 label.sk-toggleable__label-arrow:hover:before {color: black;}#sk-2f1f4b3e-ad01-42e1-bb28-3bd845842e64 div.sk-estimator:hover label.sk-toggleable__label-arrow:before {color: black;}#sk-2f1f4b3e-ad01-42e1-bb28-3bd845842e64 div.sk-toggleable__content {max-height: 0;max-width: 0;overflow: hidden;text-align: left;background-color: #f0f8ff;}#sk-2f1f4b3e-ad01-42e1-bb28-3bd845842e64 div.sk-toggleable__content pre {margin: 0.2em;color: black;border-radius: 0.25em;background-color: #f0f8ff;}#sk-2f1f4b3e-ad01-42e1-bb28-3bd845842e64 input.sk-toggleable__control:checked~div.sk-toggleable__content {max-height: 200px;max-width: 100%;overflow: auto;}#sk-2f1f4b3e-ad01-42e1-bb28-3bd845842e64 input.sk-toggleable__control:checked~label.sk-toggleable__label-arrow:before {content: \"▾\";}#sk-2f1f4b3e-ad01-42e1-bb28-3bd845842e64 div.sk-estimator input.sk-toggleable__control:checked~label.sk-toggleable__label {background-color: #d4ebff;}#sk-2f1f4b3e-ad01-42e1-bb28-3bd845842e64 div.sk-label input.sk-toggleable__control:checked~label.sk-toggleable__label {background-color: #d4ebff;}#sk-2f1f4b3e-ad01-42e1-bb28-3bd845842e64 input.sk-hidden--visually {border: 0;clip: rect(1px 1px 1px 1px);clip: rect(1px, 1px, 1px, 1px);height: 1px;margin: -1px;overflow: hidden;padding: 0;position: absolute;width: 1px;}#sk-2f1f4b3e-ad01-42e1-bb28-3bd845842e64 div.sk-estimator {font-family: monospace;background-color: #f0f8ff;border: 1px dotted black;border-radius: 0.25em;box-sizing: border-box;margin-bottom: 0.5em;}#sk-2f1f4b3e-ad01-42e1-bb28-3bd845842e64 div.sk-estimator:hover {background-color: #d4ebff;}#sk-2f1f4b3e-ad01-42e1-bb28-3bd845842e64 div.sk-parallel-item::after {content: \"\";width: 100%;border-bottom: 1px solid gray;flex-grow: 1;}#sk-2f1f4b3e-ad01-42e1-bb28-3bd845842e64 div.sk-label:hover label.sk-toggleable__label {background-color: #d4ebff;}#sk-2f1f4b3e-ad01-42e1-bb28-3bd845842e64 div.sk-serial::before {content: \"\";position: absolute;border-left: 1px solid gray;box-sizing: border-box;top: 2em;bottom: 0;left: 50%;}#sk-2f1f4b3e-ad01-42e1-bb28-3bd845842e64 div.sk-serial {display: flex;flex-direction: column;align-items: center;background-color: white;padding-right: 0.2em;padding-left: 0.2em;}#sk-2f1f4b3e-ad01-42e1-bb28-3bd845842e64 div.sk-item {z-index: 1;}#sk-2f1f4b3e-ad01-42e1-bb28-3bd845842e64 div.sk-parallel {display: flex;align-items: stretch;justify-content: center;background-color: white;}#sk-2f1f4b3e-ad01-42e1-bb28-3bd845842e64 div.sk-parallel::before {content: \"\";position: absolute;border-left: 1px solid gray;box-sizing: border-box;top: 2em;bottom: 0;left: 50%;}#sk-2f1f4b3e-ad01-42e1-bb28-3bd845842e64 div.sk-parallel-item {display: flex;flex-direction: column;position: relative;background-color: white;}#sk-2f1f4b3e-ad01-42e1-bb28-3bd845842e64 div.sk-parallel-item:first-child::after {align-self: flex-end;width: 50%;}#sk-2f1f4b3e-ad01-42e1-bb28-3bd845842e64 div.sk-parallel-item:last-child::after {align-self: flex-start;width: 50%;}#sk-2f1f4b3e-ad01-42e1-bb28-3bd845842e64 div.sk-parallel-item:only-child::after {width: 0;}#sk-2f1f4b3e-ad01-42e1-bb28-3bd845842e64 div.sk-dashed-wrapped {border: 1px dashed gray;margin: 0 0.4em 0.5em 0.4em;box-sizing: border-box;padding-bottom: 0.4em;background-color: white;position: relative;}#sk-2f1f4b3e-ad01-42e1-bb28-3bd845842e64 div.sk-label label {font-family: monospace;font-weight: bold;background-color: white;display: inline-block;line-height: 1.2em;}#sk-2f1f4b3e-ad01-42e1-bb28-3bd845842e64 div.sk-label-container {position: relative;z-index: 2;text-align: center;}#sk-2f1f4b3e-ad01-42e1-bb28-3bd845842e64 div.sk-container {/* jupyter's `normalize.less` sets `[hidden] { display: none; }` but bootstrap.min.css set `[hidden] { display: none !important; }` so we also need the `!important` here to be able to override the default hidden behavior on the sphinx rendered scikit-learn.org. See: https://github.com/scikit-learn/scikit-learn/issues/21755 */display: inline-block !important;position: relative;}#sk-2f1f4b3e-ad01-42e1-bb28-3bd845842e64 div.sk-text-repr-fallback {display: none;}</style><div id=\"sk-2f1f4b3e-ad01-42e1-bb28-3bd845842e64\" class=\"sk-top-container\"><div class=\"sk-text-repr-fallback\"><pre>Pipeline(steps=[(&#x27;columntransformer&#x27;,\n",
              "                 ColumnTransformer(transformers=[(&#x27;pipeline-1&#x27;,\n",
              "                                                  Pipeline(steps=[(&#x27;simpleimputer&#x27;,\n",
              "                                                                   SimpleImputer()),\n",
              "                                                                  (&#x27;standardscaler&#x27;,\n",
              "                                                                   StandardScaler())]),\n",
              "                                                  &lt;sklearn.compose._column_transformer.make_column_selector object at 0x7f543cc06c10&gt;),\n",
              "                                                 (&#x27;pipeline-2&#x27;,\n",
              "                                                  Pipeline(steps=[(&#x27;simpleimputer&#x27;,\n",
              "                                                                   SimpleImputer(strategy=&#x27;most_frequent&#x27;)),\n",
              "                                                                  (&#x27;onehotencoder&#x27;,\n",
              "                                                                   OneHotEncoder(handle_unknown=&#x27;ignore&#x27;,\n",
              "                                                                                 sparse=False))]),\n",
              "                                                  &lt;sklearn.compose._column_transformer.make_column_selector object at 0x7f543cc06c50&gt;)])),\n",
              "                (&#x27;linearregression&#x27;, LinearRegression())])</pre><b>Please rerun this cell to show the HTML repr or trust the notebook.</b></div><div class=\"sk-container\" hidden><div class=\"sk-item sk-dashed-wrapped\"><div class=\"sk-label-container\"><div class=\"sk-label sk-toggleable\"><input class=\"sk-toggleable__control sk-hidden--visually\" id=\"8d28db7e-8307-46c8-b5ee-820165c25819\" type=\"checkbox\" ><label for=\"8d28db7e-8307-46c8-b5ee-820165c25819\" class=\"sk-toggleable__label sk-toggleable__label-arrow\">Pipeline</label><div class=\"sk-toggleable__content\"><pre>Pipeline(steps=[(&#x27;columntransformer&#x27;,\n",
              "                 ColumnTransformer(transformers=[(&#x27;pipeline-1&#x27;,\n",
              "                                                  Pipeline(steps=[(&#x27;simpleimputer&#x27;,\n",
              "                                                                   SimpleImputer()),\n",
              "                                                                  (&#x27;standardscaler&#x27;,\n",
              "                                                                   StandardScaler())]),\n",
              "                                                  &lt;sklearn.compose._column_transformer.make_column_selector object at 0x7f543cc06c10&gt;),\n",
              "                                                 (&#x27;pipeline-2&#x27;,\n",
              "                                                  Pipeline(steps=[(&#x27;simpleimputer&#x27;,\n",
              "                                                                   SimpleImputer(strategy=&#x27;most_frequent&#x27;)),\n",
              "                                                                  (&#x27;onehotencoder&#x27;,\n",
              "                                                                   OneHotEncoder(handle_unknown=&#x27;ignore&#x27;,\n",
              "                                                                                 sparse=False))]),\n",
              "                                                  &lt;sklearn.compose._column_transformer.make_column_selector object at 0x7f543cc06c50&gt;)])),\n",
              "                (&#x27;linearregression&#x27;, LinearRegression())])</pre></div></div></div><div class=\"sk-serial\"><div class=\"sk-item sk-dashed-wrapped\"><div class=\"sk-label-container\"><div class=\"sk-label sk-toggleable\"><input class=\"sk-toggleable__control sk-hidden--visually\" id=\"ab25a469-4faf-41ff-bbf0-4bf58561a0bf\" type=\"checkbox\" ><label for=\"ab25a469-4faf-41ff-bbf0-4bf58561a0bf\" class=\"sk-toggleable__label sk-toggleable__label-arrow\">columntransformer: ColumnTransformer</label><div class=\"sk-toggleable__content\"><pre>ColumnTransformer(transformers=[(&#x27;pipeline-1&#x27;,\n",
              "                                 Pipeline(steps=[(&#x27;simpleimputer&#x27;,\n",
              "                                                  SimpleImputer()),\n",
              "                                                 (&#x27;standardscaler&#x27;,\n",
              "                                                  StandardScaler())]),\n",
              "                                 &lt;sklearn.compose._column_transformer.make_column_selector object at 0x7f543cc06c10&gt;),\n",
              "                                (&#x27;pipeline-2&#x27;,\n",
              "                                 Pipeline(steps=[(&#x27;simpleimputer&#x27;,\n",
              "                                                  SimpleImputer(strategy=&#x27;most_frequent&#x27;)),\n",
              "                                                 (&#x27;onehotencoder&#x27;,\n",
              "                                                  OneHotEncoder(handle_unknown=&#x27;ignore&#x27;,\n",
              "                                                                sparse=False))]),\n",
              "                                 &lt;sklearn.compose._column_transformer.make_column_selector object at 0x7f543cc06c50&gt;)])</pre></div></div></div><div class=\"sk-parallel\"><div class=\"sk-parallel-item\"><div class=\"sk-item\"><div class=\"sk-label-container\"><div class=\"sk-label sk-toggleable\"><input class=\"sk-toggleable__control sk-hidden--visually\" id=\"c5712163-73ea-4400-8cad-3032db658a6e\" type=\"checkbox\" ><label for=\"c5712163-73ea-4400-8cad-3032db658a6e\" class=\"sk-toggleable__label sk-toggleable__label-arrow\">pipeline-1</label><div class=\"sk-toggleable__content\"><pre>&lt;sklearn.compose._column_transformer.make_column_selector object at 0x7f543cc06c10&gt;</pre></div></div></div><div class=\"sk-serial\"><div class=\"sk-item\"><div class=\"sk-serial\"><div class=\"sk-item\"><div class=\"sk-estimator sk-toggleable\"><input class=\"sk-toggleable__control sk-hidden--visually\" id=\"4752ca7b-c1da-4a81-a35d-9077d1efadf1\" type=\"checkbox\" ><label for=\"4752ca7b-c1da-4a81-a35d-9077d1efadf1\" class=\"sk-toggleable__label sk-toggleable__label-arrow\">SimpleImputer</label><div class=\"sk-toggleable__content\"><pre>SimpleImputer()</pre></div></div></div><div class=\"sk-item\"><div class=\"sk-estimator sk-toggleable\"><input class=\"sk-toggleable__control sk-hidden--visually\" id=\"7c3ab418-74c1-4c4e-a75c-0c27efe1da96\" type=\"checkbox\" ><label for=\"7c3ab418-74c1-4c4e-a75c-0c27efe1da96\" class=\"sk-toggleable__label sk-toggleable__label-arrow\">StandardScaler</label><div class=\"sk-toggleable__content\"><pre>StandardScaler()</pre></div></div></div></div></div></div></div></div><div class=\"sk-parallel-item\"><div class=\"sk-item\"><div class=\"sk-label-container\"><div class=\"sk-label sk-toggleable\"><input class=\"sk-toggleable__control sk-hidden--visually\" id=\"41120c9d-69b1-45f6-851c-08aeb5f25d3b\" type=\"checkbox\" ><label for=\"41120c9d-69b1-45f6-851c-08aeb5f25d3b\" class=\"sk-toggleable__label sk-toggleable__label-arrow\">pipeline-2</label><div class=\"sk-toggleable__content\"><pre>&lt;sklearn.compose._column_transformer.make_column_selector object at 0x7f543cc06c50&gt;</pre></div></div></div><div class=\"sk-serial\"><div class=\"sk-item\"><div class=\"sk-serial\"><div class=\"sk-item\"><div class=\"sk-estimator sk-toggleable\"><input class=\"sk-toggleable__control sk-hidden--visually\" id=\"84cd17fc-2a32-4120-8a9e-76cc55e0e041\" type=\"checkbox\" ><label for=\"84cd17fc-2a32-4120-8a9e-76cc55e0e041\" class=\"sk-toggleable__label sk-toggleable__label-arrow\">SimpleImputer</label><div class=\"sk-toggleable__content\"><pre>SimpleImputer(strategy=&#x27;most_frequent&#x27;)</pre></div></div></div><div class=\"sk-item\"><div class=\"sk-estimator sk-toggleable\"><input class=\"sk-toggleable__control sk-hidden--visually\" id=\"3cd19589-2866-4ea2-8a48-15fa16ed74a9\" type=\"checkbox\" ><label for=\"3cd19589-2866-4ea2-8a48-15fa16ed74a9\" class=\"sk-toggleable__label sk-toggleable__label-arrow\">OneHotEncoder</label><div class=\"sk-toggleable__content\"><pre>OneHotEncoder(handle_unknown=&#x27;ignore&#x27;, sparse=False)</pre></div></div></div></div></div></div></div></div></div></div><div class=\"sk-item\"><div class=\"sk-estimator sk-toggleable\"><input class=\"sk-toggleable__control sk-hidden--visually\" id=\"af3a4bdb-9371-486d-a2a4-6f4d61fcffe8\" type=\"checkbox\" ><label for=\"af3a4bdb-9371-486d-a2a4-6f4d61fcffe8\" class=\"sk-toggleable__label sk-toggleable__label-arrow\">LinearRegression</label><div class=\"sk-toggleable__content\"><pre>LinearRegression()</pre></div></div></div></div></div></div></div>"
            ],
            "text/plain": [
              "Pipeline(steps=[('columntransformer',\n",
              "                 ColumnTransformer(transformers=[('pipeline-1',\n",
              "                                                  Pipeline(steps=[('simpleimputer',\n",
              "                                                                   SimpleImputer()),\n",
              "                                                                  ('standardscaler',\n",
              "                                                                   StandardScaler())]),\n",
              "                                                  <sklearn.compose._column_transformer.make_column_selector object at 0x7f543cc06c10>),\n",
              "                                                 ('pipeline-2',\n",
              "                                                  Pipeline(steps=[('simpleimputer',\n",
              "                                                                   SimpleImputer(strategy='most_frequent')),\n",
              "                                                                  ('onehotencoder',\n",
              "                                                                   OneHotEncoder(handle_unknown='ignore',\n",
              "                                                                                 sparse=False))]),\n",
              "                                                  <sklearn.compose._column_transformer.make_column_selector object at 0x7f543cc06c50>)])),\n",
              "                ('linearregression', LinearRegression())])"
            ]
          },
          "metadata": {},
          "execution_count": 49
        }
      ]
    },
    {
      "cell_type": "code",
      "source": [
        "# Evaluate model\n",
        "print(f'Train R2: {r2_score(y_train, pipe.predict(X_train))}')\n",
        "print(f'Test R2: {r2_score(y_test, pipe.predict(X_test))}')\n"
      ],
      "metadata": {
        "colab": {
          "base_uri": "https://localhost:8080/"
        },
        "id": "wm5v53V5JB8H",
        "outputId": "37b229d1-0059-49e5-cf11-0721a150545b"
      },
      "execution_count": null,
      "outputs": [
        {
          "output_type": "stream",
          "name": "stdout",
          "text": [
            "Train R2: 0.560615819190381\n",
            "Test R2: 0.5656202563241928\n"
          ]
        }
      ]
    },
    {
      "cell_type": "markdown",
      "source": [
        "Variable Name\tDescription\n",
        "Item_Identifier\tUnique product ID\n",
        "Item_Weight\tWeight of product\n",
        "Item_Fat_Content\tWhether the product is low fat or regular\n",
        "Item_Visibility\tThe percentage of total display area of all products in a store allocated to the particular product\n",
        "Item_Type\tThe category to which the product belongs\n",
        "Item_MRP\tMaximum Retail Price (list price) of the product\n",
        "Outlet_Identifier\tUnique store ID\n",
        "Outlet_Establishment_Year\tThe year in which store was established\n",
        "Outlet_Size\tThe size of the store in terms of ground area covered\n",
        "Outlet_Location_Type\tThe type of area in which the store is located\n",
        "Outlet_Type\tWhether the outlet is a grocery store or some sort of supermarket\n",
        "Item_Outlet_Sales\tSales of the product in the particular store. This is the target variable to be predicted."
      ],
      "metadata": {
        "id": "JnqTin7V1woB"
      }
    }
  ]
}