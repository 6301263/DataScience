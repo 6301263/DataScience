{
  "nbformat": 4,
  "nbformat_minor": 0,
  "metadata": {
    "colab": {
      "name": "Project 1- Food Sales Projection.ipynb",
      "provenance": []
    },
    "kernelspec": {
      "name": "python3",
      "display_name": "Python 3"
    },
    "language_info": {
      "name": "python"
    }
  },
  "cells": [
    {
      "cell_type": "code",
      "metadata": {
        "colab": {
          "base_uri": "https://localhost:8080/"
        },
        "id": "JKEsvp31-YHn",
        "outputId": "fe9dd4b9-d97a-4721-8a44-9a79d38a4501"
      },
      "source": [
        "from google.colab import drive\n",
        "drive.mount('/content/drive')"
      ],
      "execution_count": 10,
      "outputs": [
        {
          "output_type": "stream",
          "name": "stdout",
          "text": [
            "Drive already mounted at /content/drive; to attempt to forcibly remount, call drive.mount(\"/content/drive\", force_remount=True).\n"
          ]
        }
      ]
    },
    {
      "cell_type": "code",
      "metadata": {
        "colab": {
          "base_uri": "https://localhost:8080/"
        },
        "id": "A63l6Mb_xmFc",
        "outputId": "c9e08a00-7369-4f83-cdcb-3d38364c6cb9"
      },
      "source": [
        "\n",
        "\n",
        "import pandas as pd\n",
        "sales_predictions = pd.read_csv('/content/drive/MyDrive/Colab Notebooks/02 Week 2: Pandas/sales_predictions.csv')\n",
        "pd.set_option('display.width',250)\n",
        "pd.set_option('max.columns',15)\n",
        "print(sales_predictions.shape)\n",
        "print(sales_predictions.head(2))\n"
      ],
      "execution_count": 11,
      "outputs": [
        {
          "output_type": "stream",
          "name": "stdout",
          "text": [
            "(8523, 12)\n",
            "  Item_Identifier  Item_Weight Item_Fat_Content  Item_Visibility    Item_Type  Item_MRP Outlet_Identifier  Outlet_Establishment_Year Outlet_Size Outlet_Location_Type        Outlet_Type  Item_Outlet_Sales\n",
            "0           FDA15         9.30          Low Fat         0.016047        Dairy  249.8092            OUT049                       1999      Medium               Tier 1  Supermarket Type1          3735.1380\n",
            "1           DRC01         5.92          Regular         0.019278  Soft Drinks   48.2692            OUT018                       2009      Medium               Tier 3  Supermarket Type2           443.4228\n"
          ]
        }
      ]
    },
    {
      "cell_type": "code",
      "metadata": {
        "colab": {
          "base_uri": "https://localhost:8080/"
        },
        "id": "GQAp-FzZ78PK",
        "outputId": "465b909d-747a-4cac-f305-3d4a28a9a96b"
      },
      "source": [
        "\n",
        "\n",
        "\n",
        "#1) How many rows and columns?\n",
        "print('Shape: ', sales_predictions.shape)\n",
        "\n",
        "#2) What are the datatypes of each variable?\n",
        "print(sales_predictions.dtypes)\n",
        "\n",
        "#3) Are there duplicates? If so, drop any duplicates.\n",
        "sales_predictions['Item_Identifier'].duplicated().count()\n",
        "help(sales_predictions.duplicated)\n",
        "\n",
        "#4) Identify missing values.\n",
        "\n",
        "\n",
        "#5) Decide on how to address the missing values and do it! (This requires your judgement, so explain your choice).\n",
        "\n",
        "#6) Confirm that there are no missing values after addressing them.\n",
        "\n",
        "#7) Find and fix any inconsistent categories of data (example: fix cat, Cat, and cats so that they are consistent) \n",
        "\n",
        "#8) For any numerical columns, obtain the summary statistics of each (min, max, mean)"
      ],
      "execution_count": null,
      "outputs": [
        {
          "output_type": "stream",
          "name": "stdout",
          "text": [
            "Shape:  (8523, 12)\n",
            "Item_Identifier               object\n",
            "Item_Weight                  float64\n",
            "Item_Fat_Content              object\n",
            "Item_Visibility              float64\n",
            "Item_Type                     object\n",
            "Item_MRP                     float64\n",
            "Outlet_Identifier             object\n",
            "Outlet_Establishment_Year      int64\n",
            "Outlet_Size                   object\n",
            "Outlet_Location_Type          object\n",
            "Outlet_Type                   object\n",
            "Item_Outlet_Sales            float64\n",
            "dtype: object\n",
            "Help on method duplicated in module pandas.core.frame:\n",
            "\n",
            "duplicated(subset: Union[Hashable, Sequence[Hashable], NoneType] = None, keep: Union[str, bool] = 'first') -> 'Series' method of pandas.core.frame.DataFrame instance\n",
            "    Return boolean Series denoting duplicate rows.\n",
            "    \n",
            "    Considering certain columns is optional.\n",
            "    \n",
            "    Parameters\n",
            "    ----------\n",
            "    subset : column label or sequence of labels, optional\n",
            "        Only consider certain columns for identifying duplicates, by\n",
            "        default use all of the columns.\n",
            "    keep : {'first', 'last', False}, default 'first'\n",
            "        Determines which duplicates (if any) to mark.\n",
            "    \n",
            "        - ``first`` : Mark duplicates as ``True`` except for the first occurrence.\n",
            "        - ``last`` : Mark duplicates as ``True`` except for the last occurrence.\n",
            "        - False : Mark all duplicates as ``True``.\n",
            "    \n",
            "    Returns\n",
            "    -------\n",
            "    Series\n",
            "        Boolean series for each duplicated rows.\n",
            "    \n",
            "    See Also\n",
            "    --------\n",
            "    Index.duplicated : Equivalent method on index.\n",
            "    Series.duplicated : Equivalent method on Series.\n",
            "    Series.drop_duplicates : Remove duplicate values from Series.\n",
            "    DataFrame.drop_duplicates : Remove duplicate values from DataFrame.\n",
            "    \n",
            "    Examples\n",
            "    --------\n",
            "    Consider dataset containing ramen rating.\n",
            "    \n",
            "    >>> df = pd.DataFrame({\n",
            "    ...     'brand': ['Yum Yum', 'Yum Yum', 'Indomie', 'Indomie', 'Indomie'],\n",
            "    ...     'style': ['cup', 'cup', 'cup', 'pack', 'pack'],\n",
            "    ...     'rating': [4, 4, 3.5, 15, 5]\n",
            "    ... })\n",
            "    >>> df\n",
            "        brand style  rating\n",
            "    0  Yum Yum   cup     4.0\n",
            "    1  Yum Yum   cup     4.0\n",
            "    2  Indomie   cup     3.5\n",
            "    3  Indomie  pack    15.0\n",
            "    4  Indomie  pack     5.0\n",
            "    \n",
            "    By default, for each set of duplicated values, the first occurrence\n",
            "    is set on False and all others on True.\n",
            "    \n",
            "    >>> df.duplicated()\n",
            "    0    False\n",
            "    1     True\n",
            "    2    False\n",
            "    3    False\n",
            "    4    False\n",
            "    dtype: bool\n",
            "    \n",
            "    By using 'last', the last occurrence of each set of duplicated values\n",
            "    is set on False and all others on True.\n",
            "    \n",
            "    >>> df.duplicated(keep='last')\n",
            "    0     True\n",
            "    1    False\n",
            "    2    False\n",
            "    3    False\n",
            "    4    False\n",
            "    dtype: bool\n",
            "    \n",
            "    By setting ``keep`` on False, all duplicates are True.\n",
            "    \n",
            "    >>> df.duplicated(keep=False)\n",
            "    0     True\n",
            "    1     True\n",
            "    2    False\n",
            "    3    False\n",
            "    4    False\n",
            "    dtype: bool\n",
            "    \n",
            "    To find duplicates on specific column(s), use ``subset``.\n",
            "    \n",
            "    >>> df.duplicated(subset=['brand'])\n",
            "    0    False\n",
            "    1     True\n",
            "    2    False\n",
            "    3     True\n",
            "    4     True\n",
            "    dtype: bool\n",
            "\n"
          ]
        }
      ]
    }
  ]
}