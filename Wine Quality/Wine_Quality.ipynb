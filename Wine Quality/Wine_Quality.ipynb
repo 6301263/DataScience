{
  "cells": [
    {
      "cell_type": "code",
      "execution_count": 1,
      "metadata": {
        "colab": {
          "base_uri": "https://localhost:8080/"
        },
        "id": "JKEsvp31-YHn",
        "outputId": "86b92538-3300-4975-d8c9-6eace1fdd7a9"
      },
      "outputs": [
        {
          "output_type": "stream",
          "name": "stdout",
          "text": [
            "Drive already mounted at /content/drive; to attempt to forcibly remount, call drive.mount(\"/content/drive\", force_remount=True).\n"
          ]
        }
      ],
      "source": [
        "from google.colab import drive\n",
        "drive.mount('/content/drive')"
      ]
    },
    {
      "cell_type": "markdown",
      "source": [
        "your workflow could be clearer\n",
        "\n",
        "You have a little bit data leakage before you split\n",
        "\n",
        "and you are asked to evaluate EACH model with multiple metrics\n"
      ],
      "metadata": {
        "id": "RSaYsTmZOvc8"
      }
    },
    {
      "cell_type": "code",
      "execution_count": 2,
      "metadata": {
        "id": "A63l6Mb_xmFc"
      },
      "outputs": [],
      "source": [
        "import pandas as pd\n",
        "import matplotlib.pyplot as plt\n",
        "import seaborn as sns\n",
        "from sklearn.compose import make_column_selector, make_column_transformer\n",
        "from sklearn.metrics import classification_report, confusion_matrix\n",
        "from sklearn.preprocessing import StandardScaler, OrdinalEncoder\n",
        "from sklearn.model_selection import train_test_split, GridSearchCV\n",
        "from sklearn.pipeline import make_pipeline"
      ]
    },
    {
      "cell_type": "markdown",
      "source": [
        "#Data Description:\n",
        "Dataframe is 1599 records of physico-chemical properties of red wine and their rated wine quality. There are 11 features and a target quality rating which will be treated as a regression problem. We seek to be able to predict wine quality through physico-chemical properties that can be used to mass test wine in place of wine tastings with limited throughput."
      ],
      "metadata": {
        "id": "Runce-hw9KFJ"
      }
    },
    {
      "cell_type": "code",
      "source": [
        "#Data Description: Target is wine quality which we will treat as a regression problem.\n",
        "df0 = pd.read_csv('/content/drive/MyDrive/Colab Notebooks/Data Files and Assignments/winequality-red.csv', sep=';')\n",
        "pd.set_option('display.width',250)\n",
        "pd.set_option('display.max_columns',15)\n",
        "pd.set_option('display.min_rows', 50)\n",
        "print('Data Shape: ', df0.shape)\n",
        "print(df0.head(2))\n",
        "print(df0.describe())\n",
        "print(df0.info())"
      ],
      "metadata": {
        "colab": {
          "base_uri": "https://localhost:8080/"
        },
        "id": "5_Jr94P_qY0G",
        "outputId": "6a4a48d2-c17f-44a4-d07b-a21376e6daa2"
      },
      "execution_count": 18,
      "outputs": [
        {
          "output_type": "stream",
          "name": "stdout",
          "text": [
            "Data Shape:  (1599, 12)\n",
            "   fixed acidity  volatile acidity  citric acid  residual sugar  chlorides  free sulfur dioxide  total sulfur dioxide  density    pH  sulphates  alcohol  quality\n",
            "0            7.4              0.70          0.0             1.9      0.076                 11.0                  34.0   0.9978  3.51       0.56      9.4        5\n",
            "1            7.8              0.88          0.0             2.6      0.098                 25.0                  67.0   0.9968  3.20       0.68      9.8        5\n",
            "       fixed acidity  volatile acidity  citric acid  residual sugar    chlorides  free sulfur dioxide  total sulfur dioxide      density           pH    sulphates      alcohol      quality\n",
            "count    1599.000000       1599.000000  1599.000000     1599.000000  1599.000000          1599.000000           1599.000000  1599.000000  1599.000000  1599.000000  1599.000000  1599.000000\n",
            "mean        8.319637          0.527821     0.270976        2.538806     0.087467            15.874922             46.467792     0.996747     3.311113     0.658149    10.422983     5.636023\n",
            "std         1.741096          0.179060     0.194801        1.409928     0.047065            10.460157             32.895324     0.001887     0.154386     0.169507     1.065668     0.807569\n",
            "min         4.600000          0.120000     0.000000        0.900000     0.012000             1.000000              6.000000     0.990070     2.740000     0.330000     8.400000     3.000000\n",
            "25%         7.100000          0.390000     0.090000        1.900000     0.070000             7.000000             22.000000     0.995600     3.210000     0.550000     9.500000     5.000000\n",
            "50%         7.900000          0.520000     0.260000        2.200000     0.079000            14.000000             38.000000     0.996750     3.310000     0.620000    10.200000     6.000000\n",
            "75%         9.200000          0.640000     0.420000        2.600000     0.090000            21.000000             62.000000     0.997835     3.400000     0.730000    11.100000     6.000000\n",
            "max        15.900000          1.580000     1.000000       15.500000     0.611000            72.000000            289.000000     1.003690     4.010000     2.000000    14.900000     8.000000\n",
            "<class 'pandas.core.frame.DataFrame'>\n",
            "RangeIndex: 1599 entries, 0 to 1598\n",
            "Data columns (total 12 columns):\n",
            " #   Column                Non-Null Count  Dtype  \n",
            "---  ------                --------------  -----  \n",
            " 0   fixed acidity         1599 non-null   float64\n",
            " 1   volatile acidity      1599 non-null   float64\n",
            " 2   citric acid           1599 non-null   float64\n",
            " 3   residual sugar        1599 non-null   float64\n",
            " 4   chlorides             1599 non-null   float64\n",
            " 5   free sulfur dioxide   1599 non-null   float64\n",
            " 6   total sulfur dioxide  1599 non-null   float64\n",
            " 7   density               1599 non-null   float64\n",
            " 8   pH                    1599 non-null   float64\n",
            " 9   sulphates             1599 non-null   float64\n",
            " 10  alcohol               1599 non-null   float64\n",
            " 11  quality               1599 non-null   int64  \n",
            "dtypes: float64(11), int64(1)\n",
            "memory usage: 150.0 KB\n",
            "None\n"
          ]
        }
      ]
    },
    {
      "cell_type": "markdown",
      "source": [
        "#Data Cleansing"
      ],
      "metadata": {
        "id": "fPvoaQcAnmVM"
      }
    },
    {
      "cell_type": "code",
      "source": [
        "print(df0.info())\n",
        "print('\\n\\n Number of Duplicated Rows: ',df0.duplicated().sum())"
      ],
      "metadata": {
        "colab": {
          "base_uri": "https://localhost:8080/"
        },
        "id": "gJFcghAZiYzF",
        "outputId": "2447e766-d62f-4e45-ac4d-dbc157e02044"
      },
      "execution_count": 4,
      "outputs": [
        {
          "output_type": "stream",
          "name": "stdout",
          "text": [
            "<class 'pandas.core.frame.DataFrame'>\n",
            "RangeIndex: 1599 entries, 0 to 1598\n",
            "Data columns (total 12 columns):\n",
            " #   Column                Non-Null Count  Dtype  \n",
            "---  ------                --------------  -----  \n",
            " 0   fixed acidity         1599 non-null   float64\n",
            " 1   volatile acidity      1599 non-null   float64\n",
            " 2   citric acid           1599 non-null   float64\n",
            " 3   residual sugar        1599 non-null   float64\n",
            " 4   chlorides             1599 non-null   float64\n",
            " 5   free sulfur dioxide   1599 non-null   float64\n",
            " 6   total sulfur dioxide  1599 non-null   float64\n",
            " 7   density               1599 non-null   float64\n",
            " 8   pH                    1599 non-null   float64\n",
            " 9   sulphates             1599 non-null   float64\n",
            " 10  alcohol               1599 non-null   float64\n",
            " 11  quality               1599 non-null   int64  \n",
            "dtypes: float64(11), int64(1)\n",
            "memory usage: 150.0 KB\n",
            "None\n",
            "\n",
            "\n",
            " Number of Duplicated Rows:  240\n"
          ]
        }
      ]
    },
    {
      "cell_type": "code",
      "source": [
        "df_noquality = df0.drop(columns='quality')\n",
        "print(df_noquality.shape)\n",
        "print('Number of Duplicated Bottles: ', df_noquality.duplicated().sum())"
      ],
      "metadata": {
        "colab": {
          "base_uri": "https://localhost:8080/"
        },
        "id": "zDcRwrBbrdSD",
        "outputId": "32e31271-e8fc-4c9d-ca2d-c88029aae0a1"
      },
      "execution_count": 5,
      "outputs": [
        {
          "output_type": "stream",
          "name": "stdout",
          "text": [
            "(1599, 11)\n",
            "Number of Duplicated Bottles:  240\n"
          ]
        }
      ]
    },
    {
      "cell_type": "code",
      "source": [
        "df0 = df0.drop_duplicates()\n",
        "print(df0.shape)"
      ],
      "metadata": {
        "colab": {
          "base_uri": "https://localhost:8080/"
        },
        "id": "sSm9nrrEx8JX",
        "outputId": "f0c02204-5b09-4671-b4de-cd7650146282"
      },
      "execution_count": 6,
      "outputs": [
        {
          "output_type": "stream",
          "name": "stdout",
          "text": [
            "(1359, 12)\n"
          ]
        }
      ]
    },
    {
      "cell_type": "code",
      "source": [
        "#Address Missing Values\n",
        "df0.isnull().sum()"
      ],
      "metadata": {
        "colab": {
          "base_uri": "https://localhost:8080/"
        },
        "id": "XJQstm-LznFo",
        "outputId": "e63dc39c-676b-42e4-c889-f7a5c6f7ecd9"
      },
      "execution_count": 7,
      "outputs": [
        {
          "output_type": "execute_result",
          "data": {
            "text/plain": [
              "fixed acidity           0\n",
              "volatile acidity        0\n",
              "citric acid             0\n",
              "residual sugar          0\n",
              "chlorides               0\n",
              "free sulfur dioxide     0\n",
              "total sulfur dioxide    0\n",
              "density                 0\n",
              "pH                      0\n",
              "sulphates               0\n",
              "alcohol                 0\n",
              "quality                 0\n",
              "dtype: int64"
            ]
          },
          "metadata": {},
          "execution_count": 7
        }
      ]
    },
    {
      "cell_type": "code",
      "source": [
        "#For Loop to find outliers and inconsistent categories\n",
        "counter = len(df0.loc[1,:])  \n",
        "for x in range(counter):\n",
        "  if df0.iloc[:,x].dtypes == 'int64':\n",
        "    print('\\n\\n', df0.iloc[:,x].head(0))\n",
        "    print('Min =', df0.iloc[:,x].min())\n",
        "    print('Max =', df0.iloc[:,x].max())\n",
        "    print('Mean =', df0.iloc[:,x].mean())\n",
        "  if df0.iloc[:,x].dtypes == 'float64':\n",
        "    print('\\n\\n', df0.iloc[:,x].head(0))\n",
        "    print('Min =', df0.iloc[:,x].min())\n",
        "    print('Max =', df0.iloc[:,x].max())\n",
        "    print('Mean =', df0.iloc[:,x].mean())\n",
        "  elif df0.iloc[:,x].dtypes == 'object':\n",
        "    print('\\n\\n', df0.iloc[:,x].head(0))\n",
        "    print('Categories: ', df0.iloc[:,x].value_counts())"
      ],
      "metadata": {
        "colab": {
          "base_uri": "https://localhost:8080/"
        },
        "id": "2VuEVA4dznIk",
        "outputId": "b7986a43-f985-4f34-9908-6c4e5b8e9019"
      },
      "execution_count": 8,
      "outputs": [
        {
          "output_type": "stream",
          "name": "stdout",
          "text": [
            "\n",
            "\n",
            " Series([], Name: fixed acidity, dtype: float64)\n",
            "Min = 4.6\n",
            "Max = 15.9\n",
            "Mean = 8.310596026490087\n",
            "\n",
            "\n",
            " Series([], Name: volatile acidity, dtype: float64)\n",
            "Min = 0.12\n",
            "Max = 1.58\n",
            "Mean = 0.5294775570272258\n",
            "\n",
            "\n",
            " Series([], Name: citric acid, dtype: float64)\n",
            "Min = 0.0\n",
            "Max = 1.0\n",
            "Mean = 0.27233259749815975\n",
            "\n",
            "\n",
            " Series([], Name: residual sugar, dtype: float64)\n",
            "Min = 0.9\n",
            "Max = 15.5\n",
            "Mean = 2.523399558498897\n",
            "\n",
            "\n",
            " Series([], Name: chlorides, dtype: float64)\n",
            "Min = 0.012\n",
            "Max = 0.611\n",
            "Mean = 0.0881236203090504\n",
            "\n",
            "\n",
            " Series([], Name: free sulfur dioxide, dtype: float64)\n",
            "Min = 1.0\n",
            "Max = 72.0\n",
            "Mean = 15.893303899926417\n",
            "\n",
            "\n",
            " Series([], Name: total sulfur dioxide, dtype: float64)\n",
            "Min = 6.0\n",
            "Max = 289.0\n",
            "Mean = 46.82597498160412\n",
            "\n",
            "\n",
            " Series([], Name: density, dtype: float64)\n",
            "Min = 0.99007\n",
            "Max = 1.00369\n",
            "Mean = 0.9967089477557026\n",
            "\n",
            "\n",
            " Series([], Name: pH, dtype: float64)\n",
            "Min = 2.74\n",
            "Max = 4.01\n",
            "Mean = 3.309786607799856\n",
            "\n",
            "\n",
            " Series([], Name: sulphates, dtype: float64)\n",
            "Min = 0.33\n",
            "Max = 2.0\n",
            "Mean = 0.6587049300956593\n",
            "\n",
            "\n",
            " Series([], Name: alcohol, dtype: float64)\n",
            "Min = 8.4\n",
            "Max = 14.9\n",
            "Mean = 10.432315428010774\n",
            "\n",
            "\n",
            " Series([], Name: quality, dtype: int64)\n",
            "Min = 3\n",
            "Max = 8\n",
            "Mean = 5.6232523914643116\n"
          ]
        }
      ]
    },
    {
      "cell_type": "code",
      "source": [
        "#Deeper look at potential outliers\n",
        "temp1 = df0['volatile acidity'].sort_values(ascending=False)\n",
        "temp2 = df0['residual sugar'].sort_values(ascending=False)\n",
        "temp3 = df0['chlorides'].sort_values(ascending=False)\n",
        "temp4 = df0['free sulfur dioxide'].sort_values(ascending=False)\n",
        "temp5 = df0['total sulfur dioxide'].sort_values(ascending=False)\n",
        "print(temp1.head())\n",
        "print(temp2.head())\n",
        "print(temp3.head())\n",
        "print(temp4.head())\n",
        "print(temp5.head())\n"
      ],
      "metadata": {
        "colab": {
          "base_uri": "https://localhost:8080/"
        },
        "id": "HZRjKico_wGi",
        "outputId": "7d804ec4-122e-4b92-9dbd-5ca925cc6eea"
      },
      "execution_count": 9,
      "outputs": [
        {
          "output_type": "stream",
          "name": "stdout",
          "text": [
            "1299    1.580\n",
            "126     1.330\n",
            "127     1.330\n",
            "672     1.240\n",
            "690     1.185\n",
            "Name: volatile acidity, dtype: float64\n",
            "480     15.5\n",
            "1434    15.4\n",
            "1574    13.9\n",
            "1474    13.8\n",
            "1244    13.4\n",
            "Name: residual sugar, dtype: float64\n",
            "258    0.611\n",
            "151    0.610\n",
            "106    0.467\n",
            "81     0.464\n",
            "692    0.422\n",
            "Name: chlorides, dtype: float64\n",
            "1244    72.0\n",
            "396     68.0\n",
            "1558    66.0\n",
            "1131    57.0\n",
            "1434    55.0\n",
            "Name: free sulfur dioxide, dtype: float64\n",
            "1081    289.0\n",
            "1079    278.0\n",
            "354     165.0\n",
            "1244    160.0\n",
            "651     155.0\n",
            "Name: total sulfur dioxide, dtype: float64\n"
          ]
        }
      ]
    },
    {
      "cell_type": "markdown",
      "source": [
        "#Exploratory Visualizations\n",
        "Using a histogram we see the distribution of the features and target vector. Most wines were rated mid to low high.\n",
        "Using a heatmap we can see the correlation between the elements of our dataframe. We see a moderate correlation between quality and alcohol content."
      ],
      "metadata": {
        "id": "jbZ5BJAzneFy"
      }
    },
    {
      "cell_type": "code",
      "source": [
        "df0.hist(figsize=(10,10))"
      ],
      "metadata": {
        "colab": {
          "base_uri": "https://localhost:8080/",
          "height": 833
        },
        "id": "1H5eycKlBrK7",
        "outputId": "b4ef3655-c28b-4561-f9b4-0512b1f37f7f"
      },
      "execution_count": 10,
      "outputs": [
        {
          "output_type": "execute_result",
          "data": {
            "text/plain": [
              "array([[<matplotlib.axes._subplots.AxesSubplot object at 0x7f6e31957c90>,\n",
              "        <matplotlib.axes._subplots.AxesSubplot object at 0x7f6e305dcd10>,\n",
              "        <matplotlib.axes._subplots.AxesSubplot object at 0x7f6e305a2350>],\n",
              "       [<matplotlib.axes._subplots.AxesSubplot object at 0x7f6e30557950>,\n",
              "        <matplotlib.axes._subplots.AxesSubplot object at 0x7f6e3050df50>,\n",
              "        <matplotlib.axes._subplots.AxesSubplot object at 0x7f6e304d2590>],\n",
              "       [<matplotlib.axes._subplots.AxesSubplot object at 0x7f6e30488c10>,\n",
              "        <matplotlib.axes._subplots.AxesSubplot object at 0x7f6e30449190>,\n",
              "        <matplotlib.axes._subplots.AxesSubplot object at 0x7f6e304491d0>],\n",
              "       [<matplotlib.axes._subplots.AxesSubplot object at 0x7f6e304018d0>,\n",
              "        <matplotlib.axes._subplots.AxesSubplot object at 0x7f6e303fa410>,\n",
              "        <matplotlib.axes._subplots.AxesSubplot object at 0x7f6e303aea10>]],\n",
              "      dtype=object)"
            ]
          },
          "metadata": {},
          "execution_count": 10
        },
        {
          "output_type": "display_data",
          "data": {
            "image/png": "[encoded data removed]",
            "text/plain": [
              "<Figure size 720x720 with 12 Axes>"
            ]
          },
          "metadata": {
            "needs_background": "light"
          }
        }
      ]
    },
    {
      "cell_type": "code",
      "source": [
        "corr = df0.corr()\n",
        "plt.figure(figsize=(10,10))\n",
        "sns.heatmap(corr, cmap = 'Blues', annot=True)\n"
      ],
      "metadata": {
        "colab": {
          "base_uri": "https://localhost:8080/",
          "height": 696
        },
        "id": "FCPbf8rWznVJ",
        "outputId": "7c308492-a3af-48fd-9ace-afbeae65ddfb"
      },
      "execution_count": 14,
      "outputs": [
        {
          "output_type": "execute_result",
          "data": {
            "text/plain": [
              "<matplotlib.axes._subplots.AxesSubplot at 0x7f6e2faf2bd0>"
            ]
          },
          "metadata": {},
          "execution_count": 14
        },
        {
          "output_type": "display_data",
          "data": {
            "image/png": "[encoded data removed]",
            "text/plain": [
              "<Figure size 720x720 with 2 Axes>"
            ]
          },
          "metadata": {
            "needs_background": "light"
          }
        }
      ]
    },
    {
      "cell_type": "markdown",
      "source": [
        "#Data Preprocessing and Pipelines"
      ],
      "metadata": {
        "id": "XkpmMo3Wiuf5"
      }
    },
    {
      "cell_type": "code",
      "source": [
        "#Train Test Split\n",
        "X = df0.drop(columns=['quality'])\n",
        "y = df0['quality']\n",
        "X_train, X_test, y_train, y_test = train_test_split(X, y, random_state = 42, stratify=y)"
      ],
      "metadata": {
        "id": "9LBddPrXocj4"
      },
      "execution_count": 8,
      "outputs": []
    },
    {
      "cell_type": "code",
      "source": [
        "#Turn alcohol content in to binary categories as there is a bit of correlation towards quality and alcohol content\n",
        "\n",
        "#Do this after the split and apply the median to the training data\n",
        "\n",
        "alc_train_median= X_train['alcohol'].median()\n",
        "X_train['alcohol'] = X_train['alcohol'].apply(lambda x: 'high' if x >= alc_train_median else 'low')\n",
        "X_train['alcohol'].value_counts()\n",
        "\n",
        "alc_test_median= X_test['alcohol'].median()\n",
        "X_test['alcohol'] = X_test['alcohol'].apply(lambda x: 'high' if x >= alc_test_median else 'low')\n",
        "X_test['alcohol'].value_counts()"
      ],
      "metadata": {
        "colab": {
          "base_uri": "https://localhost:8080/"
        },
        "id": "4zLL0zwtLL54",
        "outputId": "18e386d7-36cd-4099-c0e6-fa6ee7c04d91"
      },
      "execution_count": 9,
      "outputs": [
        {
          "output_type": "execute_result",
          "data": {
            "text/plain": [
              "high    177\n",
              "low     163\n",
              "Name: alcohol, dtype: int64"
            ]
          },
          "metadata": {},
          "execution_count": 9
        }
      ]
    },
    {
      "cell_type": "code",
      "source": [
        "\n",
        "\n",
        "cat_selector = make_column_selector(dtype_include='object')\n",
        "num_selector = make_column_selector(dtype_include='number')\n",
        "#I chose an ordinal encoder to encode the binary high/low alcohol content\n",
        "ord = OrdinalEncoder()\n",
        "scaler = StandardScaler()\n",
        "num_tuple = (scaler, num_selector)\n",
        "cat_tuple = (ord, cat_selector) \n",
        "preprocess_transformer = make_column_transformer(num_tuple, cat_tuple)\n"
      ],
      "metadata": {
        "id": "ebBtIqNyJE_m"
      },
      "execution_count": 10,
      "outputs": []
    },
    {
      "cell_type": "markdown",
      "source": [
        "#Model Selection:\n",
        "*   XGBoost\n",
        "*   RandomForest\n",
        "*   Keras\n",
        "\n",
        "These models were selected after previewing their performance in this section. Having scored the highest, we will later determine whether we are able to improve on their scores through hyperparameter tuning.\n",
        "\n",
        "This was treated as a classification problem since there were finite categories of quality rankings."
      ],
      "metadata": {
        "id": "CCHxg-JyiSvf"
      }
    },
    {
      "cell_type": "code",
      "source": [
        "#Load evaluation libraries and formula\n",
        "import numpy as np\n",
        "from sklearn.metrics import r2_score\n",
        "from sklearn.metrics import mean_absolute_error\n",
        "from sklearn.metrics import mean_squared_error\n",
        "\n",
        "def evaluateregression(y_test, y_pred):\n",
        "  \"\"\"takes two arrays, true labels and predicted labels, and prints\n",
        "  MAE, MSE, RMSE, and R2 metrics\"\"\"\n",
        "  mae = mean_absolute_error(y_test, y_pred)\n",
        "  mse = mean_squared_error(y_test, y_pred)\n",
        "  r2 = r2_score(y_test, y_pred)\n",
        "  rmse = np.sqrt(mse)\n",
        "  print(f'MAE {mae}\\n MSE {mse}\\n R^2 {r2}\\n RMSE {rmse}')"
      ],
      "metadata": {
        "id": "K5w7lkbrp96S"
      },
      "execution_count": 11,
      "outputs": []
    },
    {
      "cell_type": "code",
      "source": [
        "#Load regression models\n",
        "\n",
        "from xgboost import XGBRegressor\n",
        "from lightgbm import LGBMRegressor\n",
        "from sklearn.ensemble import GradientBoostingRegressor\n",
        "from sklearn.neighbors import KNeighborsRegressor\n",
        "from sklearn.ensemble import RandomForestRegressor\n",
        "from sklearn.linear_model import LinearRegression\n",
        "\n",
        "def RegressionBoost(X_train, X_test, y_train, y_test):\n",
        "  gradientboost = GradientBoostingRegressor()\n",
        "  gbr = make_pipeline(preprocess_transformer, gradientboost)    #instantiate model\n",
        "  gbr.fit(X_train, y_train)      #Can create pipeline with preprocessors before this line and name the pipeline as gbr\n",
        "  gbrtrainpred = gbr.predict(X_train)\n",
        "  gbrtestpred = gbr.predict(X_test)\n",
        "  print('---'*5, 'Created gbr model', '---'*5)\n",
        "  print('Train Metrics')\n",
        "  evaluateregression(y_train, gbrtrainpred)  \n",
        "  print('Test Metrics')  \n",
        "  evaluateregression(y_test, gbrtestpred)\n",
        "\n",
        "  lgbmboost = LGBMRegressor()\n",
        "  lgbm = make_pipeline(preprocess_transformer, lgbmboost)\n",
        "  lgbm.fit(X_train, y_train)\n",
        "  lgbmtrainpred = lgbm.predict(X_train)\n",
        "  lgbmtestpred = lgbm.predict(X_test)\n",
        "  print('---'*5, 'Created lgbm model', '---'*5)\n",
        "  print('Train Metrics')\n",
        "  evaluateregression(y_train, lgbmtrainpred)  \n",
        "  print('Test Metrics')  \n",
        "  evaluateregression(y_test, lgbmtestpred)\n",
        "\n",
        "  xgbboost = XGBRegressor()\n",
        "  xgb = make_pipeline(preprocess_transformer, xgbboost)\n",
        "  xgb.fit(X_train, y_train)\n",
        "  xgbtrainpred = xgb.predict(X_train)\n",
        "  xgbtestpred = xgb.predict(X_test)\n",
        "  print('---'*5, 'Created xgb model', '---'*5)\n",
        "  print('Train Metrics')\n",
        "  evaluateregression(y_train, xgbtrainpred)  \n",
        "  print('Test Metrics')  \n",
        "  evaluateregression(y_test, xgbtestpred)\n",
        "\n",
        "  randomforest = RandomForestRegressor(random_state = 42)\n",
        "  rf = make_pipeline(preprocess_transformer, randomforest)\n",
        "  rf.fit(X_train, y_train)\n",
        "  rftrainpred = rf.predict(X_train)\n",
        "  rftestpred = rf.predict(X_test)\n",
        "  print('---'*5, 'Created rf model', '---'*5)\n",
        "  print('Train Metrics')\n",
        "  evaluateregression(y_train, rftrainpred)  \n",
        "  print('Test Metrics')  \n",
        "  evaluateregression(y_test, rftestpred)\n",
        "\n",
        "  linregression = LinearRegression()\n",
        "  linreg = make_pipeline(preprocess_transformer, linregression)\n",
        "  linreg.fit(X_train, y_train)\n",
        "  linregtrainpred = linreg.predict(X_train)\n",
        "  linregtestpred = linreg.predict(X_test)\n",
        "  print('---'*5, 'Created linreg model', '---'*5)\n",
        "  print('Train Metrics')\n",
        "  evaluateregression(y_train, linregtrainpred)  \n",
        "  print('Test Metrics')  \n",
        "  evaluateregression(y_test, linregtestpred)\n",
        "\n"
      ],
      "metadata": {
        "id": "AniF6ZqUJFDG"
      },
      "execution_count": 12,
      "outputs": []
    },
    {
      "cell_type": "code",
      "source": [
        "#Test multiple models to find the regression model that works best\n",
        "RegressionBoost(X_train, X_test, y_train, y_test)"
      ],
      "metadata": {
        "colab": {
          "base_uri": "https://localhost:8080/"
        },
        "id": "YOt-qPo6qlG5",
        "outputId": "7d62c5ee-2647-45d8-a953-482d55b4f320"
      },
      "execution_count": 31,
      "outputs": [
        {
          "output_type": "stream",
          "name": "stdout",
          "text": [
            "--------------- Created gbr model ---------------\n",
            "Train Metrics\n",
            "MAE 0.38487114800821354\n",
            " MSE 0.24131516866703454\n",
            " R^2 0.6431296129076185\n",
            " RMSE 0.49123840308656097\n",
            "Test Metrics\n",
            "MAE 0.5108612120350703\n",
            " MSE 0.43636615582664584\n",
            " R^2 0.3606518762777696\n",
            " RMSE 0.6605801660863319\n",
            "--------------- Created lgbm model ---------------\n",
            "Train Metrics\n",
            "MAE 0.17800441680102372\n",
            " MSE 0.05497126623905211\n",
            " R^2 0.9187054126350541\n",
            " RMSE 0.23445951940378132\n",
            "Test Metrics\n",
            "MAE 0.5197556841232194\n",
            " MSE 0.4567571918424078\n",
            " R^2 0.33077565777788887\n",
            " RMSE 0.6758381402691089\n",
            "[00:36:14] WARNING: /workspace/src/objective/regression_obj.cu:152: reg:linear is now deprecated in favor of reg:squarederror.\n",
            "--------------- Created xgb model ---------------\n",
            "Train Metrics\n",
            "MAE 0.3857950562934763\n",
            " MSE 0.2464371991945289\n",
            " R^2 0.6355548672870146\n",
            " RMSE 0.49642441438201734\n",
            "Test Metrics\n",
            "MAE 0.5155196358175839\n",
            " MSE 0.4372045924928617\n",
            " R^2 0.3594234287864889\n",
            " RMSE 0.6612144829727051\n",
            "--------------- Created rf model ---------------\n",
            "Train Metrics\n",
            "MAE 0.18403336604514228\n",
            " MSE 0.05978655544651618\n",
            " R^2 0.9115842932585903\n",
            " RMSE 0.24451289423365014\n",
            "Test Metrics\n",
            "MAE 0.5075294117647059\n",
            " MSE 0.43824529411764707\n",
            " R^2 0.3578986298939151\n",
            " RMSE 0.6620009774295255\n",
            "--------------- Created linreg model ---------------\n",
            "Train Metrics\n",
            "MAE 0.5122426677585379\n",
            " MSE 0.44707434959987513\n",
            " R^2 0.33884141190923167\n",
            " RMSE 0.6686361862776162\n",
            "Test Metrics\n",
            "MAE 0.5265601180302945\n",
            " MSE 0.474400028129178\n",
            " R^2 0.3049260034761788\n",
            " RMSE 0.6887670347288537\n"
          ]
        }
      ]
    },
    {
      "cell_type": "markdown",
      "source": [
        "#RandomForest Model"
      ],
      "metadata": {
        "id": "0Xv4A6ZYiPRS"
      }
    },
    {
      "cell_type": "code",
      "source": [
        "#Improve on RandomForest Model using GridSearchCV\n",
        "randomforest = RandomForestRegressor(random_state = 42)\n",
        "rf = make_pipeline(preprocess_transformer, randomforest)\n",
        "modelpipe = rf\n",
        "modelpipe.get_params()"
      ],
      "metadata": {
        "colab": {
          "base_uri": "https://localhost:8080/"
        },
        "id": "GP6EYowaJFiO",
        "outputId": "c9ba2f45-c7a1-48c1-8ea0-6aeb3ea36c53"
      },
      "execution_count": 22,
      "outputs": [
        {
          "output_type": "execute_result",
          "data": {
            "text/plain": [
              "{'columntransformer': ColumnTransformer(transformers=[('standardscaler', StandardScaler(),\n",
              "                                  <sklearn.compose._column_transformer.make_column_selector object at 0x7f6e2b8bf3d0>),\n",
              "                                 ('ordinalencoder', OrdinalEncoder(),\n",
              "                                  <sklearn.compose._column_transformer.make_column_selector object at 0x7f6e2b8bf410>)]),\n",
              " 'columntransformer__n_jobs': None,\n",
              " 'columntransformer__ordinalencoder': OrdinalEncoder(),\n",
              " 'columntransformer__ordinalencoder__categories': 'auto',\n",
              " 'columntransformer__ordinalencoder__dtype': numpy.float64,\n",
              " 'columntransformer__ordinalencoder__handle_unknown': 'error',\n",
              " 'columntransformer__ordinalencoder__unknown_value': None,\n",
              " 'columntransformer__remainder': 'drop',\n",
              " 'columntransformer__sparse_threshold': 0.3,\n",
              " 'columntransformer__standardscaler': StandardScaler(),\n",
              " 'columntransformer__standardscaler__copy': True,\n",
              " 'columntransformer__standardscaler__with_mean': True,\n",
              " 'columntransformer__standardscaler__with_std': True,\n",
              " 'columntransformer__transformer_weights': None,\n",
              " 'columntransformer__transformers': [('standardscaler',\n",
              "   StandardScaler(),\n",
              "   <sklearn.compose._column_transformer.make_column_selector at 0x7f6e2b8bf3d0>),\n",
              "  ('ordinalencoder',\n",
              "   OrdinalEncoder(),\n",
              "   <sklearn.compose._column_transformer.make_column_selector at 0x7f6e2b8bf410>)],\n",
              " 'columntransformer__verbose': False,\n",
              " 'columntransformer__verbose_feature_names_out': True,\n",
              " 'memory': None,\n",
              " 'randomforestregressor': RandomForestRegressor(random_state=42),\n",
              " 'randomforestregressor__bootstrap': True,\n",
              " 'randomforestregressor__ccp_alpha': 0.0,\n",
              " 'randomforestregressor__criterion': 'squared_error',\n",
              " 'randomforestregressor__max_depth': None,\n",
              " 'randomforestregressor__max_features': 'auto',\n",
              " 'randomforestregressor__max_leaf_nodes': None,\n",
              " 'randomforestregressor__max_samples': None,\n",
              " 'randomforestregressor__min_impurity_decrease': 0.0,\n",
              " 'randomforestregressor__min_samples_leaf': 1,\n",
              " 'randomforestregressor__min_samples_split': 2,\n",
              " 'randomforestregressor__min_weight_fraction_leaf': 0.0,\n",
              " 'randomforestregressor__n_estimators': 100,\n",
              " 'randomforestregressor__n_jobs': None,\n",
              " 'randomforestregressor__oob_score': False,\n",
              " 'randomforestregressor__random_state': 42,\n",
              " 'randomforestregressor__verbose': 0,\n",
              " 'randomforestregressor__warm_start': False,\n",
              " 'steps': [('columntransformer',\n",
              "   ColumnTransformer(transformers=[('standardscaler', StandardScaler(),\n",
              "                                    <sklearn.compose._column_transformer.make_column_selector object at 0x7f6e2b8bf3d0>),\n",
              "                                   ('ordinalencoder', OrdinalEncoder(),\n",
              "                                    <sklearn.compose._column_transformer.make_column_selector object at 0x7f6e2b8bf410>)])),\n",
              "  ('randomforestregressor', RandomForestRegressor(random_state=42))],\n",
              " 'verbose': False}"
            ]
          },
          "metadata": {},
          "execution_count": 22
        }
      ]
    },
    {
      "cell_type": "code",
      "source": [
        "#Tune Hyperparameters\n",
        "param_grid = { 'randomforestregressor__n_estimators': [500, 1000], 'randomforestregressor__max_depth': [2,4,8,16,32,64], 'randomforestregressor__criterion': 'squared_error'}\n",
        "model_grid = GridSearchCV(modelpipe, param_grid)\n",
        "model_grid.fit(X_train, y_train)\n",
        "print('Best Hyperparameter Settings: ', model_grid.best_params_)\n",
        "best_model = model_grid.best_estimator_"
      ],
      "metadata": {
        "colab": {
          "base_uri": "https://localhost:8080/"
        },
        "id": "4cbqhy-MfpNR",
        "outputId": "487afb84-d4ee-4bd8-a0a9-a81063e3b5a7"
      },
      "execution_count": 26,
      "outputs": [
        {
          "output_type": "stream",
          "name": "stdout",
          "text": [
            "Best Hyperparameter Settings:  {'randomforestregressor__max_depth': 8, 'randomforestregressor__n_estimators': 1000}\n"
          ]
        }
      ]
    },
    {
      "cell_type": "code",
      "source": [
        "#Fit model to training data and run evaluation metrics\n",
        "best_model.fit(X_train, y_train)\n",
        "best_y_testpred = best_model.predict(X_test)\n",
        "best_y_trainpred = best_model.predict(X_train)\n",
        "evaluateregression(y_test, best_y_testpred)\n"
      ],
      "metadata": {
        "colab": {
          "base_uri": "https://localhost:8080/"
        },
        "id": "RZ3Je-Ocepiz",
        "outputId": "8593191e-3695-47bb-fc5b-1402ca1408db"
      },
      "execution_count": 27,
      "outputs": [
        {
          "output_type": "stream",
          "name": "stdout",
          "text": [
            "MAE 0.5101300220084106\n",
            " MSE 0.4390718132744004\n",
            " R^2 0.35668764351232984\n",
            " RMSE 0.6626249416331991\n"
          ]
        }
      ]
    },
    {
      "cell_type": "markdown",
      "source": [
        "#GradientBoost Model"
      ],
      "metadata": {
        "id": "91rdde5riF7j"
      }
    },
    {
      "cell_type": "code",
      "source": [
        "#Create and hyperparameter tune XGB Boost model\n",
        "xgbboost = XGBRegressor()\n",
        "xgb = make_pipeline(preprocess_transformer, xgbboost)\n",
        "modelpipe = xgb\n",
        "modelpipe.get_params()"
      ],
      "metadata": {
        "colab": {
          "base_uri": "https://localhost:8080/"
        },
        "id": "W825Vz6siD5l",
        "outputId": "9c525fb2-113d-43ce-f1af-172dd8fce704"
      },
      "execution_count": 32,
      "outputs": [
        {
          "output_type": "execute_result",
          "data": {
            "text/plain": [
              "{'columntransformer': ColumnTransformer(transformers=[('standardscaler', StandardScaler(),\n",
              "                                  <sklearn.compose._column_transformer.make_column_selector object at 0x7f6e2b8bf3d0>),\n",
              "                                 ('ordinalencoder', OrdinalEncoder(),\n",
              "                                  <sklearn.compose._column_transformer.make_column_selector object at 0x7f6e2b8bf410>)]),\n",
              " 'columntransformer__n_jobs': None,\n",
              " 'columntransformer__ordinalencoder': OrdinalEncoder(),\n",
              " 'columntransformer__ordinalencoder__categories': 'auto',\n",
              " 'columntransformer__ordinalencoder__dtype': numpy.float64,\n",
              " 'columntransformer__ordinalencoder__handle_unknown': 'error',\n",
              " 'columntransformer__ordinalencoder__unknown_value': None,\n",
              " 'columntransformer__remainder': 'drop',\n",
              " 'columntransformer__sparse_threshold': 0.3,\n",
              " 'columntransformer__standardscaler': StandardScaler(),\n",
              " 'columntransformer__standardscaler__copy': True,\n",
              " 'columntransformer__standardscaler__with_mean': True,\n",
              " 'columntransformer__standardscaler__with_std': True,\n",
              " 'columntransformer__transformer_weights': None,\n",
              " 'columntransformer__transformers': [('standardscaler',\n",
              "   StandardScaler(),\n",
              "   <sklearn.compose._column_transformer.make_column_selector at 0x7f6e2b8bf3d0>),\n",
              "  ('ordinalencoder',\n",
              "   OrdinalEncoder(),\n",
              "   <sklearn.compose._column_transformer.make_column_selector at 0x7f6e2b8bf410>)],\n",
              " 'columntransformer__verbose': False,\n",
              " 'columntransformer__verbose_feature_names_out': True,\n",
              " 'memory': None,\n",
              " 'steps': [('columntransformer',\n",
              "   ColumnTransformer(transformers=[('standardscaler', StandardScaler(),\n",
              "                                    <sklearn.compose._column_transformer.make_column_selector object at 0x7f6e2b8bf3d0>),\n",
              "                                   ('ordinalencoder', OrdinalEncoder(),\n",
              "                                    <sklearn.compose._column_transformer.make_column_selector object at 0x7f6e2b8bf410>)])),\n",
              "  ('xgbregressor', XGBRegressor())],\n",
              " 'verbose': False,\n",
              " 'xgbregressor': XGBRegressor(),\n",
              " 'xgbregressor__base_score': 0.5,\n",
              " 'xgbregressor__booster': 'gbtree',\n",
              " 'xgbregressor__colsample_bylevel': 1,\n",
              " 'xgbregressor__colsample_bynode': 1,\n",
              " 'xgbregressor__colsample_bytree': 1,\n",
              " 'xgbregressor__gamma': 0,\n",
              " 'xgbregressor__importance_type': 'gain',\n",
              " 'xgbregressor__learning_rate': 0.1,\n",
              " 'xgbregressor__max_delta_step': 0,\n",
              " 'xgbregressor__max_depth': 3,\n",
              " 'xgbregressor__min_child_weight': 1,\n",
              " 'xgbregressor__missing': None,\n",
              " 'xgbregressor__n_estimators': 100,\n",
              " 'xgbregressor__n_jobs': 1,\n",
              " 'xgbregressor__nthread': None,\n",
              " 'xgbregressor__objective': 'reg:linear',\n",
              " 'xgbregressor__random_state': 0,\n",
              " 'xgbregressor__reg_alpha': 0,\n",
              " 'xgbregressor__reg_lambda': 1,\n",
              " 'xgbregressor__scale_pos_weight': 1,\n",
              " 'xgbregressor__seed': None,\n",
              " 'xgbregressor__silent': None,\n",
              " 'xgbregressor__subsample': 1,\n",
              " 'xgbregressor__verbosity': 1}"
            ]
          },
          "metadata": {},
          "execution_count": 32
        }
      ]
    },
    {
      "cell_type": "code",
      "source": [
        "#Tune Hyperparameters\n",
        "param_grid = { 'xgbregressor__n_estimators': [100, 500, 1000], 'xgbregressor__max_depth': [2,4,8], 'xgbregressor__learning_rate': [0.01,0.1,1,], 'xgbregressor__objective': ['reg:squarederror']}\n",
        "xgbmodel_grid = GridSearchCV(modelpipe, param_grid)\n",
        "xgbmodel_grid.fit(X_train, y_train)\n",
        "print('Best Hyperparameter Settings: ', xgbmodel_grid.best_params_)\n",
        "xgbbest_model = xgbmodel_grid.best_estimator_"
      ],
      "metadata": {
        "colab": {
          "base_uri": "https://localhost:8080/"
        },
        "id": "VVHPwM-Tkr2Q",
        "outputId": "ba40f468-da0a-4aef-959d-62288b3fb99d"
      },
      "execution_count": 38,
      "outputs": [
        {
          "output_type": "stream",
          "name": "stdout",
          "text": [
            "Best Hyperparameter Settings:  {'xgbregressor__learning_rate': 0.1, 'xgbregressor__max_depth': 2, 'xgbregressor__n_estimators': 100, 'xgbregressor__objective': 'reg:squarederror'}\n"
          ]
        }
      ]
    },
    {
      "cell_type": "code",
      "source": [
        "xgbbest_model.fit(X_train, y_train)\n",
        "xgbbest_y_testpred = xgbbest_model.predict(X_test)\n",
        "xgbbest_y_trainpred = xgbbest_model.predict(X_train)\n",
        "evaluateregression(y_test, best_y_testpred)\n"
      ],
      "metadata": {
        "colab": {
          "base_uri": "https://localhost:8080/"
        },
        "id": "PvBuAEcdkr5x",
        "outputId": "9a872eee-3ee2-4432-8e3b-7be4ad52a865"
      },
      "execution_count": 39,
      "outputs": [
        {
          "output_type": "stream",
          "name": "stdout",
          "text": [
            "MAE 0.5101300220084106\n",
            " MSE 0.4390718132744004\n",
            " R^2 0.35668764351232984\n",
            " RMSE 0.6626249416331991\n"
          ]
        }
      ]
    },
    {
      "cell_type": "markdown",
      "source": [
        "#Keras Sequential Model"
      ],
      "metadata": {
        "id": "Radjwbn86i8G"
      }
    },
    {
      "cell_type": "code",
      "source": [
        "#Neural Network\n",
        "from tensorflow.keras.models import Sequential\n",
        "from tensorflow.keras.layers import Dense, Dropout\n",
        "from tensorflow.keras.callbacks import EarlyStopping\n",
        "\n",
        "X_train = preprocess_transformer.fit_transform(X_train)\n",
        "X_test = preprocess_transformer.transform(X_test)\n",
        "input_shape = X_train.shape[1]\n",
        "input_shape\n",
        "model = Sequential()\n",
        "\n",
        "\n",
        "# First hidden layer\n",
        "model.add(Dense(12, input_dim = input_shape, activation = 'relu'))\n",
        "model.add(Dropout(0.2))    #Dropout 20% of previous layer\n",
        "model.add(Dense(6, activation = 'relu'))\n",
        "model.add(Dropout(0.2))   #Dropout 20% of previous layer\n",
        "model.add(Dense(1, activation = 'linear'))\n",
        "model.compile(loss = 'mse', optimizer = 'adam')\n",
        "early_stopping = EarlyStopping(patience = 5) \n",
        "history = model.fit(X_train, y_train, validation_data = (X_test, y_test), epochs=100, callbacks =[early_stopping])\n",
        "\n",
        "# Visualize the loss\n",
        "plt.plot(history.history['loss'], label='Train loss')\n",
        "plt.plot(history.history['val_loss'], label='Test Loss')\n",
        "plt.legend();\n",
        "\n",
        "\n"
      ],
      "metadata": {
        "colab": {
          "base_uri": "https://localhost:8080/",
          "height": 1000
        },
        "id": "O2gLN0v7ybgf",
        "outputId": "9f61aba7-e77f-4242-8f7c-d0de96e83e27"
      },
      "execution_count": 16,
      "outputs": [
        {
          "output_type": "stream",
          "name": "stdout",
          "text": [
            "Epoch 1/100\n",
            "32/32 [==============================] - 1s 7ms/step - loss: 35.3977 - val_loss: 31.9135\n",
            "Epoch 2/100\n",
            "32/32 [==============================] - 0s 3ms/step - loss: 30.9130 - val_loss: 28.1376\n",
            "Epoch 3/100\n",
            "32/32 [==============================] - 0s 3ms/step - loss: 26.8629 - val_loss: 24.8070\n",
            "Epoch 4/100\n",
            "32/32 [==============================] - 0s 2ms/step - loss: 23.1413 - val_loss: 21.4694\n",
            "Epoch 5/100\n",
            "32/32 [==============================] - 0s 3ms/step - loss: 19.9609 - val_loss: 17.8554\n",
            "Epoch 6/100\n",
            "32/32 [==============================] - 0s 3ms/step - loss: 16.5509 - val_loss: 14.2691\n",
            "Epoch 7/100\n",
            "32/32 [==============================] - 0s 3ms/step - loss: 13.7100 - val_loss: 11.1200\n",
            "Epoch 8/100\n",
            "32/32 [==============================] - 0s 3ms/step - loss: 11.7949 - val_loss: 8.6815\n",
            "Epoch 9/100\n",
            "32/32 [==============================] - 0s 3ms/step - loss: 10.1275 - val_loss: 6.8062\n",
            "Epoch 10/100\n",
            "32/32 [==============================] - 0s 2ms/step - loss: 8.8022 - val_loss: 5.6455\n",
            "Epoch 11/100\n",
            "32/32 [==============================] - 0s 2ms/step - loss: 8.8219 - val_loss: 4.7541\n",
            "Epoch 12/100\n",
            "32/32 [==============================] - 0s 3ms/step - loss: 7.6806 - val_loss: 4.1395\n",
            "Epoch 13/100\n",
            "32/32 [==============================] - 0s 3ms/step - loss: 7.3543 - val_loss: 3.6368\n",
            "Epoch 14/100\n",
            "32/32 [==============================] - 0s 3ms/step - loss: 7.7642 - val_loss: 3.5449\n",
            "Epoch 15/100\n",
            "32/32 [==============================] - 0s 3ms/step - loss: 7.2772 - val_loss: 3.2820\n",
            "Epoch 16/100\n",
            "32/32 [==============================] - 0s 3ms/step - loss: 6.8752 - val_loss: 3.1351\n",
            "Epoch 17/100\n",
            "32/32 [==============================] - 0s 2ms/step - loss: 6.1184 - val_loss: 2.7896\n",
            "Epoch 18/100\n",
            "32/32 [==============================] - 0s 3ms/step - loss: 6.6556 - val_loss: 2.5919\n",
            "Epoch 19/100\n",
            "32/32 [==============================] - 0s 3ms/step - loss: 6.1843 - val_loss: 2.5038\n",
            "Epoch 20/100\n",
            "32/32 [==============================] - 0s 2ms/step - loss: 5.8856 - val_loss: 2.4516\n",
            "Epoch 21/100\n",
            "32/32 [==============================] - 0s 3ms/step - loss: 5.4253 - val_loss: 2.3479\n",
            "Epoch 22/100\n",
            "32/32 [==============================] - 0s 3ms/step - loss: 5.9181 - val_loss: 2.2503\n",
            "Epoch 23/100\n",
            "32/32 [==============================] - 0s 3ms/step - loss: 5.6809 - val_loss: 2.2192\n",
            "Epoch 24/100\n",
            "32/32 [==============================] - 0s 3ms/step - loss: 5.4865 - val_loss: 2.0420\n",
            "Epoch 25/100\n",
            "32/32 [==============================] - 0s 3ms/step - loss: 5.1848 - val_loss: 2.0207\n",
            "Epoch 26/100\n",
            "32/32 [==============================] - 0s 2ms/step - loss: 5.6456 - val_loss: 1.8789\n",
            "Epoch 27/100\n",
            "32/32 [==============================] - 0s 3ms/step - loss: 4.9895 - val_loss: 1.8812\n",
            "Epoch 28/100\n",
            "32/32 [==============================] - 0s 3ms/step - loss: 5.1259 - val_loss: 1.8343\n",
            "Epoch 29/100\n",
            "32/32 [==============================] - 0s 3ms/step - loss: 5.4020 - val_loss: 1.6905\n",
            "Epoch 30/100\n",
            "32/32 [==============================] - 0s 3ms/step - loss: 4.7915 - val_loss: 1.6287\n",
            "Epoch 31/100\n",
            "32/32 [==============================] - 0s 3ms/step - loss: 4.5221 - val_loss: 1.5888\n",
            "Epoch 32/100\n",
            "32/32 [==============================] - 0s 3ms/step - loss: 4.4435 - val_loss: 1.5865\n",
            "Epoch 33/100\n",
            "32/32 [==============================] - 0s 3ms/step - loss: 4.6841 - val_loss: 1.6092\n",
            "Epoch 34/100\n",
            "32/32 [==============================] - 0s 3ms/step - loss: 4.5835 - val_loss: 1.5891\n",
            "Epoch 35/100\n",
            "32/32 [==============================] - 0s 3ms/step - loss: 4.6247 - val_loss: 1.5161\n",
            "Epoch 36/100\n",
            "32/32 [==============================] - 0s 3ms/step - loss: 4.7610 - val_loss: 1.4540\n",
            "Epoch 37/100\n",
            "32/32 [==============================] - 0s 3ms/step - loss: 4.5431 - val_loss: 1.4451\n",
            "Epoch 38/100\n",
            "32/32 [==============================] - 0s 2ms/step - loss: 4.2250 - val_loss: 1.3611\n",
            "Epoch 39/100\n",
            "32/32 [==============================] - 0s 3ms/step - loss: 4.1510 - val_loss: 1.3695\n",
            "Epoch 40/100\n",
            "32/32 [==============================] - 0s 3ms/step - loss: 4.7279 - val_loss: 1.3099\n",
            "Epoch 41/100\n",
            "32/32 [==============================] - 0s 2ms/step - loss: 4.3246 - val_loss: 1.2561\n",
            "Epoch 42/100\n",
            "32/32 [==============================] - 0s 2ms/step - loss: 4.3954 - val_loss: 1.1801\n",
            "Epoch 43/100\n",
            "32/32 [==============================] - 0s 3ms/step - loss: 4.2039 - val_loss: 1.2286\n",
            "Epoch 44/100\n",
            "32/32 [==============================] - 0s 2ms/step - loss: 3.9693 - val_loss: 1.2576\n",
            "Epoch 45/100\n",
            "32/32 [==============================] - 0s 3ms/step - loss: 4.2710 - val_loss: 1.2428\n",
            "Epoch 46/100\n",
            "32/32 [==============================] - 0s 3ms/step - loss: 3.7463 - val_loss: 1.1710\n",
            "Epoch 47/100\n",
            "32/32 [==============================] - 0s 3ms/step - loss: 3.7581 - val_loss: 1.1536\n",
            "Epoch 48/100\n",
            "32/32 [==============================] - 0s 3ms/step - loss: 4.0576 - val_loss: 1.1516\n",
            "Epoch 49/100\n",
            "32/32 [==============================] - 0s 3ms/step - loss: 3.7260 - val_loss: 1.1637\n",
            "Epoch 50/100\n",
            "32/32 [==============================] - 0s 4ms/step - loss: 3.8348 - val_loss: 1.1885\n",
            "Epoch 51/100\n",
            "32/32 [==============================] - 0s 4ms/step - loss: 3.6703 - val_loss: 1.0812\n",
            "Epoch 52/100\n",
            "32/32 [==============================] - 0s 4ms/step - loss: 3.8004 - val_loss: 1.0982\n",
            "Epoch 53/100\n",
            "32/32 [==============================] - 0s 5ms/step - loss: 4.1698 - val_loss: 1.0635\n",
            "Epoch 54/100\n",
            "32/32 [==============================] - 0s 4ms/step - loss: 4.1201 - val_loss: 0.9839\n",
            "Epoch 55/100\n",
            "32/32 [==============================] - 0s 4ms/step - loss: 3.4609 - val_loss: 1.0497\n",
            "Epoch 56/100\n",
            "32/32 [==============================] - 0s 6ms/step - loss: 3.6430 - val_loss: 1.0908\n",
            "Epoch 57/100\n",
            "32/32 [==============================] - 0s 4ms/step - loss: 3.5051 - val_loss: 1.0387\n",
            "Epoch 58/100\n",
            "32/32 [==============================] - 0s 2ms/step - loss: 3.7493 - val_loss: 0.9748\n",
            "Epoch 59/100\n",
            "32/32 [==============================] - 0s 2ms/step - loss: 3.8209 - val_loss: 0.9624\n",
            "Epoch 60/100\n",
            "32/32 [==============================] - 0s 4ms/step - loss: 3.4813 - val_loss: 0.9751\n",
            "Epoch 61/100\n",
            "32/32 [==============================] - 0s 5ms/step - loss: 3.3920 - val_loss: 1.0557\n",
            "Epoch 62/100\n",
            "32/32 [==============================] - 0s 4ms/step - loss: 3.6407 - val_loss: 0.9652\n",
            "Epoch 63/100\n",
            "32/32 [==============================] - 0s 5ms/step - loss: 3.2387 - val_loss: 0.9068\n",
            "Epoch 64/100\n",
            "32/32 [==============================] - 0s 4ms/step - loss: 3.3856 - val_loss: 0.9297\n",
            "Epoch 65/100\n",
            "32/32 [==============================] - 0s 4ms/step - loss: 3.4181 - val_loss: 0.9655\n",
            "Epoch 66/100\n",
            "32/32 [==============================] - 0s 4ms/step - loss: 3.1898 - val_loss: 1.0080\n",
            "Epoch 67/100\n",
            "32/32 [==============================] - 0s 5ms/step - loss: 3.2457 - val_loss: 0.9305\n",
            "Epoch 68/100\n",
            "32/32 [==============================] - 0s 4ms/step - loss: 3.0865 - val_loss: 0.9528\n"
          ]
        },
        {
          "output_type": "display_data",
          "data": {
            "image/png": "[encoded data removed]",
            "text/plain": [
              "<Figure size 432x288 with 1 Axes>"
            ]
          },
          "metadata": {
            "needs_background": "light"
          }
        }
      ]
    },
    {
      "cell_type": "code",
      "source": [
        "#Evaluate Sequential model\n",
        "keras_y_testpred = model.predict (X_test)\n",
        "evaluateregression(y_test, keras_y_testpred)"
      ],
      "metadata": {
        "colab": {
          "base_uri": "https://localhost:8080/"
        },
        "id": "b0KQYKV95fXb",
        "outputId": "b19202c4-29ec-436e-e911-2f9637c7eda2"
      },
      "execution_count": 17,
      "outputs": [
        {
          "output_type": "stream",
          "name": "stdout",
          "text": [
            "MAE 0.8013064230189604\n",
            " MSE 0.9528470255057638\n",
            " R^2 -0.39607746800930665\n",
            " RMSE 0.9761388351590996\n"
          ]
        }
      ]
    },
    {
      "cell_type": "markdown",
      "source": [
        "#Conclusion: Both RandomForest and XG Boost models achieve a 0.510 MAE and 0.439 MSE. Keras Sequential model did not perform so well here."
      ],
      "metadata": {
        "id": "Vucha27d1mEx"
      }
    }
  ],
  "metadata": {
    "colab": {
      "collapsed_sections": [],
      "name": "Wine Quality",
      "provenance": []
    },
    "kernelspec": {
      "display_name": "Python 3",
      "name": "python3"
    },
    "language_info": {
      "name": "python"
    }
  },
  "nbformat": 4,
  "nbformat_minor": 0
}